{
 "cells": [
  {
   "cell_type": "code",
   "execution_count": 5,
   "metadata": {},
   "outputs": [
    {
     "name": "stdout",
     "output_type": "stream",
     "text": [
      "1.0.2\n"
     ]
    }
   ],
   "source": [
    "from sklearn.datasets import make_blobs\n",
    "import pandas as pd\n",
    "import numpy as np\n",
    "import math\n",
    "import scipy as sp\n",
    "import seaborn as sns\n",
    "import matplotlib.pyplot as plt\n",
    "import nibabel as nib\n",
    "import numpy as np\n",
    "import matplotlib.pyplot as plt\n",
    "import os\n",
    "import glob\n",
    "import re\n",
    "import time\n",
    "from sklearn.cluster import KMeans\n",
    "from sklearn.utils import shuffle\n",
    "from skimage import exposure\n",
    "import cv2\n",
    "from sklearn import metrics\n",
    "from sklearn.metrics import ConfusionMatrixDisplay\n",
    "%matplotlib inline\n",
    "\n",
    "def list_sort_nicely(l):\n",
    "    def tryint(s):\n",
    "        try:\n",
    "            return int(s)\n",
    "        except:\n",
    "            return s\n",
    "    \n",
    "    def alphanum_key(s):\n",
    "        return [ tryint(c) for c in re.split('([0-9]+)', s)]\n",
    "    l.sort(key=alphanum_key)\n",
    "    return l"
   ]
  },
  {
   "cell_type": "code",
   "execution_count": 2,
   "metadata": {},
   "outputs": [
    {
     "name": "stdout",
     "output_type": "stream",
     "text": [
      "1065\n"
     ]
    }
   ],
   "source": [
    "train_data_dir = \"/mnt/nas203/forGPU/leesangy/final_dataset/train/map_nifti/*.nii.gz\"\n",
    "train_data_list = list_sort_nicely(glob.glob(train_data_dir))\n",
    "\n",
    "def leave_multiples_of_40(lst):\n",
    "    return [element for index, element in enumerate(lst) if index % 40 == 0]\n",
    "\n",
    "train_data_list = leave_multiples_of_40(train_data_list)\n",
    "\n",
    "print(len(train_data_list))"
   ]
  },
  {
   "cell_type": "code",
   "execution_count": 3,
   "metadata": {},
   "outputs": [
    {
     "name": "stdout",
     "output_type": "stream",
     "text": [
      "['/mnt/nas203/forGPU/leesangy/final_dataset/train/map_nifti/001_0000_156_resized.nii.gz', '/mnt/nas203/forGPU/leesangy/final_dataset/train/map_nifti/001_0000_196_resized.nii.gz', '/mnt/nas203/forGPU/leesangy/final_dataset/train/map_nifti/001_0000_236_resized.nii.gz', '/mnt/nas203/forGPU/leesangy/final_dataset/train/map_nifti/001_0000_276_resized.nii.gz', '/mnt/nas203/forGPU/leesangy/final_dataset/train/map_nifti/001_0000_316_resized.nii.gz', '/mnt/nas203/forGPU/leesangy/final_dataset/train/map_nifti/002_0000_156_resized.nii.gz', '/mnt/nas203/forGPU/leesangy/final_dataset/train/map_nifti/002_0000_196_resized.nii.gz', '/mnt/nas203/forGPU/leesangy/final_dataset/train/map_nifti/002_0000_236_resized.nii.gz', '/mnt/nas203/forGPU/leesangy/final_dataset/train/map_nifti/002_0000_276_resized.nii.gz', '/mnt/nas203/forGPU/leesangy/final_dataset/train/map_nifti/002_0000_316_resized.nii.gz']\n"
     ]
    }
   ],
   "source": [
    "print(train_data_list[:10])"
   ]
  },
  {
   "cell_type": "code",
   "execution_count": 4,
   "metadata": {},
   "outputs": [],
   "source": [
    "first_step = np.empty((0,1))\n",
    "\n",
    "start_time = time.time()\n",
    "\n",
    "for data_num in range(len(train_data_list)):\n",
    "    nifti_file = nib.load(train_data_list[data_num])\n",
    "    nifti_data = np.rot90(nifti_file.get_fdata().squeeze(), k=3)\n",
    "\n",
    "    nifti_copied = nifti_data.copy()\n",
    "    background_mask = (nifti_data != 0)\n",
    "\n",
    "    nifti_data = np.reshape(nifti_data, (256*256,1))\n",
    "    data = nifti_data[nifti_data!=0]\n",
    "\n",
    "    data_2d = data.reshape(-1,1)\n",
    "    \n",
    "    first_step = np.concatenate((first_step, data_2d), axis=0)\n",
    "    \n",
    "    if data_num % 100 == 0:\n",
    "        print(data_num, (time.time()-start_time)/60, \"min\")\n",
    "\n",
    "first_step = sorted(first_step)\n",
    "print((time.time()-start_time)/60, \"min\")"
   ]
  },
  {
   "cell_type": "code",
   "execution_count": 19,
   "metadata": {},
   "outputs": [
    {
     "name": "stdout",
     "output_type": "stream",
     "text": [
      "started\n",
      "worked 1.3264363328615825 min\n",
      "[0.145070100337552, 0.26681321049385365, 0.38874155271721045, 0.513746866143867, 0.6587133672077274]\n"
     ]
    }
   ],
   "source": [
    "print(\"started\")\n",
    "\n",
    "start_time = time.time()\n",
    "\n",
    "k=6\n",
    "kmeans= KMeans(n_clusters=k)\n",
    "kmeans.fit(first_step)\n",
    "\n",
    "print(\"worked\", (time.time()-start_time)/60, \"min\")\n",
    "\n",
    "labels = kmeans.labels_\n",
    "centers = kmeans.cluster_centers_\n",
    "\n",
    "sorted_centers = list(np.sort(centers, axis=None))\n",
    "centers = []\n",
    "\n",
    "for i in range(len(sorted_centers)):\n",
    "    centers.append(sorted_centers[i])\n",
    "\n",
    "thresholds = []\n",
    "\n",
    "for i in range(len(centers)):\n",
    "    threshold = (centers[i]+centers[i+1])/2\n",
    "    thresholds.append(threshold)\n",
    "    if i==k-2:\n",
    "        break\n",
    "    \n",
    "centers=thresholds\n",
    "\n",
    "print(centers)"
   ]
  },
  {
   "cell_type": "code",
   "execution_count": 16,
   "metadata": {},
   "outputs": [
    {
     "name": "stdout",
     "output_type": "stream",
     "text": [
      "0 7.385810216267904e-05 min\n",
      "100 0.0040116389592488606 min\n",
      "200 0.00842660665512085 min\n",
      "300 0.013129484653472901 min\n",
      "400 0.018595691521962485 min\n",
      "500 0.04030586083730062 min\n",
      "600 0.04814697504043579 min\n",
      "700 0.07908655405044555 min\n",
      "800 0.10756194591522217 min\n",
      "900 0.13429862260818481 min\n",
      "1000 0.1521301507949829 min\n"
     ]
    }
   ],
   "source": [
    "second_step = np.empty((0,1))\n",
    "\n",
    "start_time = time.time()\n",
    "\n",
    "for data_num in range(len(train_data_list)):\n",
    "    nifti_file = nib.load(train_data_list[data_num])\n",
    "    nifti_data = np.rot90(nifti_file.get_fdata().squeeze(), k=3)\n",
    "\n",
    "    nifti_copied = nifti_data.copy()\n",
    "    background_mask = (nifti_data != 0)    \n",
    "    nifti_copied[nifti_copied>centers[0]]=0\n",
    "    nifti_copied_data = np.reshape(nifti_copied, (256*256,1))\n",
    "    data = nifti_copied_data[nifti_copied_data!=0]\n",
    "    data_2d = data.reshape(-1,1)\n",
    "    \n",
    "    second_step = np.concatenate((second_step, data_2d), axis=0)\n",
    "    \n",
    "    if data_num % 100 == 0:\n",
    "        print(data_num, (time.time()-start_time)/60, \"min\")"
   ]
  },
  {
   "cell_type": "code",
   "execution_count": 17,
   "metadata": {},
   "outputs": [],
   "source": [
    "second_step = sorted(second_step)"
   ]
  },
  {
   "cell_type": "code",
   "execution_count": 18,
   "metadata": {},
   "outputs": [
    {
     "name": "stdout",
     "output_type": "stream",
     "text": [
      "[0.09204364444352381, 0.17063122017218094, 0.31581678663409585, 0.45899430876793795, 0.6147709754131994]\n"
     ]
    }
   ],
   "source": [
    "k=4\n",
    "kmeans= KMeans(n_clusters=k)\n",
    "kmeans.fit(second_step)\n",
    "labels = kmeans.labels_\n",
    "centers = kmeans.cluster_centers_\n",
    "sorted_centers = list(np.sort(centers, axis=None))\n",
    "centers = []\n",
    "\n",
    "for i in range(len(sorted_centers)):\n",
    "    centers.append(sorted_centers[i])\n",
    "\n",
    "new_threshold = (centers[1]+centers[2])/2\n",
    "thresholds.append(new_threshold)\n",
    "centers = sorted(thresholds)\n",
    "\n",
    "\n",
    "print(centers)"
   ]
  }
 ],
 "metadata": {
  "kernelspec": {
   "display_name": "Python 3",
   "language": "python",
   "name": "python3"
  },
  "language_info": {
   "codemirror_mode": {
    "name": "ipython",
    "version": 3
   },
   "file_extension": ".py",
   "mimetype": "text/x-python",
   "name": "python",
   "nbconvert_exporter": "python",
   "pygments_lexer": "ipython3",
   "version": "3.7.4"
  }
 },
 "nbformat": 4,
 "nbformat_minor": 4
}
