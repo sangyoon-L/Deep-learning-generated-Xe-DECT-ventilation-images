{
 "cells": [
  {
   "cell_type": "code",
   "execution_count": 7,
   "metadata": {},
   "outputs": [
    {
     "name": "stderr",
     "output_type": "stream",
     "text": [
      "/home/danny7454/anaconda3/lib/python3.7/site-packages/statsmodels/tools/_testing.py:19: FutureWarning: pandas.util.testing is deprecated. Use the functions in the public API at pandas.testing instead.\n",
      "  import pandas.util.testing as tm\n"
     ]
    }
   ],
   "source": [
    "from sklearn.datasets import make_blobs\n",
    "import pandas as pd\n",
    "import numpy as np\n",
    "import math\n",
    "import scipy as sp\n",
    "import seaborn as sns\n",
    "import matplotlib.pyplot as plt\n",
    "import nibabel as nib\n",
    "import numpy as np\n",
    "import matplotlib.pyplot as plt\n",
    "import os\n",
    "import glob\n",
    "import re\n",
    "from sklearn.cluster import KMeans\n",
    "from sklearn.utils import shuffle\n",
    "import cv2\n",
    "from sklearn import metrics\n",
    "from sklearn.metrics import ConfusionMatrixDisplay\n",
    "%matplotlib inline\n",
    "\n",
    "def list_sort_nicely(l):\n",
    "    def tryint(s):\n",
    "        try:\n",
    "            return int(s)\n",
    "        except:\n",
    "            return s\n",
    "    \n",
    "    def alphanum_key(s):\n",
    "        return [ tryint(c) for c in re.split('([0-9]+)', s)]\n",
    "    l.sort(key=alphanum_key)\n",
    "    return l"
   ]
  },
  {
   "cell_type": "code",
   "execution_count": 9,
   "metadata": {},
   "outputs": [
    {
     "name": "stdout",
     "output_type": "stream",
     "text": [
      "6000\n",
      "6000\n",
      "42600\n"
     ]
    }
   ],
   "source": [
    "centers = [0.20207, 0.38160, 0.56472]\n",
    "\n",
    "test_data_dir = \"/mnt/nas203/forGPU/leesangy/Task_VQ_mismatch/final_inference/testset_gif/nifti/*.nii.gz\"\n",
    "test_data_list = list_sort_nicely(glob.glob(test_data_dir))\n",
    "print(len(test_data_list))\n",
    "\n",
    "output_data_dir = \"/mnt/nas203/forGPU/leesangy/Task_VQ_mismatch/final_inference/multitasking_G_256/test22/nifti/*.nii.gz\"\n",
    "output_data_list = list_sort_nicely(glob.glob(output_data_dir))\n",
    "print(len(output_data_list))\n",
    "\n",
    "train_data_dir = \"/mnt/nas203/forGPU/leesangy/Task_VQ_mismatch/final_dataset/train/map_nifti/*.nii.gz\"\n",
    "train_data_list = list_sort_nicely(glob.glob(train_data_dir))\n",
    "print(len(train_data_list))\n",
    "\n",
    "Xe_VDP_test = []\n",
    "Xe_VDP_train = []\n",
    "DL_VDP = []\n",
    "Xe_VDP = []"
   ]
  },
  {
   "cell_type": "code",
   "execution_count": 10,
   "metadata": {},
   "outputs": [
    {
     "name": "stdout",
     "output_type": "stream",
     "text": [
      "008\n"
     ]
    }
   ],
   "source": [
    "print(test_data_list[0][-27:-24])"
   ]
  },
  {
   "cell_type": "code",
   "execution_count": 11,
   "metadata": {},
   "outputs": [
    {
     "name": "stdout",
     "output_type": "stream",
     "text": [
      "0\n",
      "008\n",
      "0 0.000311128298441569 min\n"
     ]
    },
    {
     "name": "stderr",
     "output_type": "stream",
     "text": [
      "/home/danny7454/anaconda3/lib/python3.7/site-packages/numpy/core/fromnumeric.py:3441: RuntimeWarning: Mean of empty slice.\n",
      "  out=out, **kwargs)\n",
      "/home/danny7454/anaconda3/lib/python3.7/site-packages/numpy/core/_methods.py:189: RuntimeWarning: invalid value encountered in double_scalars\n",
      "  ret = ret.dtype.type(ret / rcount)\n"
     ]
    },
    {
     "name": "stdout",
     "output_type": "stream",
     "text": [
      "015\n",
      "019\n",
      "500 0.18729357322057089 min\n",
      "021\n",
      "025\n",
      "027\n",
      "1000 0.36132835149765014 min\n",
      "044\n",
      "060\n",
      "1500 0.5687991420427958 min\n",
      "063\n",
      "082\n",
      "099\n",
      "2000 0.7411555965741475 min\n",
      "108\n",
      "119\n",
      "2500 0.8960156838099161 min\n",
      "130\n",
      "139\n",
      "142\n",
      "3000 1.1016950964927674 min\n",
      "164\n",
      "166\n",
      "3500 1.3301320632298788 min\n",
      "184\n",
      "192\n",
      "196\n",
      "4000 1.5902294437090556 min\n",
      "198\n",
      "202\n",
      "4500 1.7962350646654766 min\n",
      "221\n",
      "237\n",
      "240\n",
      "5000 2.2817808628082275 min\n",
      "246\n",
      "259\n",
      "5500 2.4734388033548993 min\n",
      "274\n",
      "276\n",
      "5999\n"
     ]
    }
   ],
   "source": [
    "import time\n",
    "\n",
    "output_data_dir = \"/mnt/nas203/forGPU/leesangy/final_inference/pix2pix_256/test22/nifti/*.nii.gz\"\n",
    "output_data_list = list_sort_nicely(glob.glob(output_data_dir))\n",
    "print(len(output_data_list))\n",
    "\n",
    "def dice_coefficient(y_true, y_pred):\n",
    "    intersection = np.sum(np.logical_and(y_true, y_pred))\n",
    "    sum_pixels = np.sum(y_true) + np.sum(y_pred)\n",
    "    dice = 2.0 * intersection / sum_pixels if sum_pixels > 0 else 0.0\n",
    "    return dice\n",
    "\n",
    "per_patient_vdp = []\n",
    "patient = \"none\"\n",
    "start_time = time.time()\n",
    "\n",
    "for i in range(len(test_data_list)):\n",
    "    test_data = test_data_list[i]\n",
    "    \n",
    "    if test_data[-27:-24] != patient:\n",
    "        patient = test_data[-27:-24]\n",
    "        Xe_VDP_test.append(np.mean(per_patient_vdp))\n",
    "        per_patient_vdp = []\n",
    "        print(patient)\n",
    "    \n",
    "    test_file = nib.load(test_data)\n",
    "    test_data = np.rot90(test_file.get_fdata().squeeze(), k=3)\n",
    "    test_copied = test_data.copy()\n",
    "    test_background_mask = (test_data != 0)\n",
    "    \n",
    "    lung_surface = np.count_nonzero(test_background_mask)\n",
    "    \n",
    "    test_copied[(test_copied > 0) & (test_copied < centers[0])] = 2\n",
    "    test_copied[(test_copied >= centers[0]) & (test_copied <=1)] = 0\n",
    "    test_copied[test_copied ==2]= 1\n",
    "    \n",
    "    #plt.imshow(test_copied)\n",
    "    #plt.show()\n",
    "    \n",
    "    defect_surface = np.count_nonzero(test_copied)\n",
    "    vdp_percentage = defect_surface / lung_surface * 100\n",
    "    \n",
    "    #print(vdp_percentage)\n",
    "    \n",
    "    per_patient_vdp.append(vdp_percentage)\n",
    "    \n",
    "    if i == 5999:\n",
    "        print(i)\n",
    "        Xe_VDP_test.append(np.mean(per_patient_vdp))\n",
    "        \n",
    "    if i == \"nan\":\n",
    "        print(i)\n",
    "    \n",
    "    if i % 500 == 0:\n",
    "        \n",
    "        print(i, (time.time()-start_time)/60, \"min\")"
   ]
  },
  {
   "cell_type": "code",
   "execution_count": 107,
   "metadata": {},
   "outputs": [
    {
     "name": "stdout",
     "output_type": "stream",
     "text": [
      "26.704721189143314 20.502337565781275\n",
      "213\n"
     ]
    },
    {
     "data": {
      "image/png": "[encoded data removed]",
      "text/plain": [
       "<Figure size 432x288 with 1 Axes>"
      ]
     },
     "metadata": {
      "needs_background": "light"
     },
     "output_type": "display_data"
    }
   ],
   "source": [
    "Xe_VDP_train = [x for x in Xe_VDP_train if str(x) != 'nan']\n",
    "        \n",
    "mean_dice =np.mean(Xe_VDP_train)\n",
    "sd_dice=np.std(Xe_VDP_train)\n",
    "\n",
    "print(mean_dice, sd_dice)\n",
    "\n",
    "print(len(Xe_VDP_train))"
   ]
  },
  {
   "cell_type": "code",
   "execution_count": 18,
   "metadata": {},
   "outputs": [
    {
     "name": "stdout",
     "output_type": "stream",
     "text": [
      "18.386309992262884 10.600951453568449\n",
      "30\n"
     ]
    },
    {
     "data": {
      "image/png": "[encoded data removed]",
      "text/plain": [
       "<Figure size 432x288 with 1 Axes>"
      ]
     },
     "metadata": {},
     "output_type": "display_data"
    }
   ],
   "source": [
    "Xe_VDP_test = [x for x in Xe_VDP_test if str(x) != 'nan']\n",
    "        \n",
    "mean_dice =np.mean(Xe_VDP_test)\n",
    "sd_dice=np.std(Xe_VDP_test)\n",
    "\n",
    "print(mean_dice, sd_dice)\n",
    "\n",
    "print(len(Xe_VDP_test))"
   ]
  },
  {
   "cell_type": "code",
   "execution_count": 26,
   "metadata": {},
   "outputs": [
    {
     "data": {
      "image/png": "[encoded data removed]",
      "text/plain": [
       "<Figure size 504x432 with 1 Axes>"
      ]
     },
     "metadata": {
      "needs_background": "light"
     },
     "output_type": "display_data"
    }
   ],
   "source": [
    "fig, ax = plt.subplots(figsize=(7,6))\n",
    "\n",
    "# Set the positions for the boxplots\n",
    "positions = [0, .5]\n",
    "\n",
    "# Plot DL_VDP boxplot\n",
    "ax.boxplot(Xe_VDP_train, positions=[positions[0]], widths=0.2, patch_artist=True, boxprops=dict(facecolor='gray'))\n",
    "\n",
    "# Plot DL_VDP data points\n",
    "dl_positions = np.random.normal(positions[0], 0.04, size=len(Xe_VDP_train))\n",
    "ax.scatter(dl_positions, Xe_VDP_train, color='black', s=6, alpha=0.7, zorder=10)\n",
    "\n",
    "# Plot Xe_VDP boxplot\n",
    "ax.boxplot(Xe_VDP_test, positions=[positions[1]], widths=0.2, patch_artist=True, boxprops=dict(facecolor='gray'))\n",
    "\n",
    "# Plot Xe_VDP data points\n",
    "xe_positions = np.random.normal(positions[1], 0.04, size=len(Xe_VDP_test))\n",
    "ax.scatter(xe_positions, Xe_VDP_test, color='black', s=6, alpha=0.7, zorder=10)\n",
    "\n",
    "# Set x-axis tick labels\n",
    "ax.set_xticks(positions)\n",
    "ax.set_xticklabels(['Xe-Vent-train', 'Xe-Vent-test'])\n",
    "\n",
    "# Set title and labels\n",
    "ax.set_title('VDP')\n",
    "ax.set_ylabel('VDP (%)')\n",
    "plt.savefig(\"/mnt/nas203/forGPU/leesangy/dpi_normal_graph.png\", dpi=1200, bbox_inches='tight', pad_inches = 0)\n",
    "# Show the plot\n",
    "plt.show()"
   ]
  },
  {
   "cell_type": "code",
   "execution_count": 28,
   "metadata": {},
   "outputs": [],
   "source": [
    "from PIL import Image\n",
    "png_image = Image.open('/mnt/nas203/forGPU/leesangy/Xe_vent train vs. test VDP.png')\n",
    "dpi=1200\n",
    "png_image.save('/mnt/nas203/forGPU/leesangy/Xe_vent train vs. test VDP.tiff', format='tiff', dpi = (1200,1200))"
   ]
  },
  {
   "cell_type": "code",
   "execution_count": 17,
   "metadata": {},
   "outputs": [
    {
     "name": "stdout",
     "output_type": "stream",
     "text": [
      "mannwhitneyu test p-value: 0.11035942226823728\n"
     ]
    }
   ],
   "source": [
    "from scipy.stats import mannwhitneyu\n",
    "\n",
    "statistic, p_value = mannwhitneyu(Xe_VDP_test, Xe_VDP_train)\n",
    "\n",
    "print(\"mannwhitneyu test p-value:\", p_value)"
   ]
  },
  {
   "cell_type": "code",
   "execution_count": 22,
   "metadata": {},
   "outputs": [
    {
     "name": "stdout",
     "output_type": "stream",
     "text": [
      "Train Shapiro-Wilk test statistic: 0.8810071349143982\n",
      "train, p-value: 6.611741536211024e-12\n",
      "Test Shapiro-Wilk test statistic: 0.8969082236289978\n",
      "test, p-value: 0.0060397787019610405\n"
     ]
    }
   ],
   "source": [
    "from scipy.stats import shapiro\n",
    "\n",
    "# Perform the Shapiro-Wilk test\n",
    "statistic, p_value = shapiro(Xe_VDP_train)\n",
    "\n",
    "# Print the test statistic and p-value\n",
    "print(\"Train Shapiro-Wilk test statistic:\", statistic)\n",
    "print(\"train, p-value:\", p_value)\n",
    "\n",
    "statistic, p_value = shapiro(Xe_VDP)\n",
    "\n",
    "# Print the test statistic and p-value\n",
    "print(\"Test Shapiro-Wilk test statistic:\", statistic)\n",
    "print(\"test, p-value:\", p_value)\n",
    "\n",
    "#suggesting that they follow normal distribution"
   ]
  },
  {
   "cell_type": "code",
   "execution_count": 16,
   "metadata": {},
   "outputs": [
    {
     "name": "stdout",
     "output_type": "stream",
     "text": [
      "6000\n",
      "0 0.0005698641141255697 min\n"
     ]
    },
    {
     "name": "stderr",
     "output_type": "stream",
     "text": [
      "/home/danny7454/anaconda3/lib/python3.7/site-packages/numpy/core/fromnumeric.py:3441: RuntimeWarning: Mean of empty slice.\n",
      "  out=out, **kwargs)\n",
      "/home/danny7454/anaconda3/lib/python3.7/site-packages/numpy/core/_methods.py:189: RuntimeWarning: invalid value encountered in double_scalars\n",
      "  ret = ret.dtype.type(ret / rcount)\n"
     ]
    },
    {
     "name": "stdout",
     "output_type": "stream",
     "text": [
      "500 0.22330467303593954 min\n",
      "1000 0.45007556676864624 min\n",
      "1500 0.6527638514836629 min\n",
      "2000 0.8790794491767884 min\n",
      "2500 1.1094561258951823 min\n",
      "3000 1.37584441502889 min\n",
      "3500 1.613408629099528 min\n",
      "4000 1.8353317658106485 min\n",
      "4500 2.4707682450612385 min\n",
      "5000 2.696156406402588 min\n",
      "5500 2.938727442423503 min\n",
      "5999\n"
     ]
    }
   ],
   "source": [
    "test_data_dir = \"/mnt/nas203/forGPU/leesangy/Task_VQ_mismatch/final_inference/multitasking_G_256/test22/nifti/*.nii.gz\"\n",
    "test_data_list = list_sort_nicely(glob.glob(test_data_dir))\n",
    "print(len(test_data_list))\n",
    "\n",
    "DL_VDP = []\n",
    "per_patient_vdp = []\n",
    "patient = \"none\"\n",
    "start_time = time.time()\n",
    "\n",
    "for i in range(len(test_data_list)):\n",
    "    test_data = test_data_list[i]\n",
    "    \n",
    "    if test_data[-19:-16] != patient:\n",
    "        patient = test_data[-19:-16]\n",
    "        DL_VDP.append(np.mean(per_patient_vdp))\n",
    "        per_patient_vdp = []\n",
    "        #print(DL_VDP)\n",
    "        \n",
    "    test_file = nib.load(test_data)\n",
    "    test_data = np.rot90(test_file.get_fdata().squeeze(), k=3)\n",
    "    test_copied = test_data.copy()\n",
    "    test_background_mask = (test_data != 0)\n",
    "    \n",
    "    lung_surface = np.count_nonzero(test_background_mask)\n",
    "    \n",
    "    test_copied[(test_copied > 0) & (test_copied < centers[0])] = 2\n",
    "    test_copied[(test_copied >= centers[0]) & (test_copied <= 1)] = 0\n",
    "    test_copied[test_copied ==2]= 1\n",
    "    \n",
    "    #plt.imshow(test_copied)\n",
    "    #plt.show()\n",
    "    \n",
    "    defect_surface = np.count_nonzero(test_copied)\n",
    "    vdp_percentage = defect_surface / lung_surface *100\n",
    "    \n",
    "    #print(vdp_percentage)\n",
    "    per_patient_vdp.append(vdp_percentage)\n",
    "    \n",
    "    if i ==5999:\n",
    "        print(i)\n",
    "        DL_VDP.append(np.mean(per_patient_vdp))\n",
    "    \n",
    "    if i % 500 == 0:\n",
    "        print(i, (time.time()-start_time)/60, \"min\")\n",
    "        "
   ]
  },
  {
   "cell_type": "code",
   "execution_count": 25,
   "metadata": {},
   "outputs": [
    {
     "name": "stdout",
     "output_type": "stream",
     "text": [
      "20.360988537696297 13.166805488553937\n",
      "30\n",
      "Shapiro-Wilk test statistic: 0.8779579997062683\n",
      "train, p-value: 0.0025315287057310343\n"
     ]
    }
   ],
   "source": [
    "from scipy.stats import shapiro\n",
    "\n",
    "DL_VDP = [x for x in DL_VDP if str(x) != 'nan']\n",
    "        \n",
    "mean_dice =np.mean(DL_VDP)\n",
    "sd_dice=np.std(DL_VDP)\n",
    "\n",
    "print(mean_dice, sd_dice)\n",
    "\n",
    "print(len(DL_VDP))\n",
    "\n",
    "statistic, p_value = shapiro(DL_VDP)\n",
    "\n",
    "# Print the test statistic and p-value\n",
    "print(\"Shapiro-Wilk test statistic:\", statistic)\n",
    "print(\"train, p-value:\", p_value)"
   ]
  },
  {
   "cell_type": "code",
   "execution_count": 28,
   "metadata": {},
   "outputs": [
    {
     "data": {
      "image/png": "[encoded data removed]",
      "text/plain": [
       "<Figure size 504x432 with 1 Axes>"
      ]
     },
     "metadata": {
      "needs_background": "light"
     },
     "output_type": "display_data"
    }
   ],
   "source": [
    "plt.rcParams.update({\n",
    "    'axes.spines.top': True,\n",
    "    'axes.spines.right': True,\n",
    "    'axes.spines.bottom': True,\n",
    "    'axes.spines.left': True,\n",
    "    'xtick.bottom': True,\n",
    "    'xtick.labelbottom': True,\n",
    "    'ytick.left': True,\n",
    "    'ytick.labelleft': True\n",
    "})\n",
    "\n",
    "fig, ax = plt.subplots(figsize=(7,6))\n",
    "\n",
    "# Set the positions for the boxplots\n",
    "positions = [.5, 0]\n",
    "\n",
    "# Plot DL_VDP boxplot\n",
    "ax.boxplot(DL_VDP, positions=[positions[0]], widths=0.2, patch_artist=True, boxprops=dict(facecolor='gray'))\n",
    "dl_positions = np.random.normal(positions[0], 0.04, size=len(DL_VDP))\n",
    "ax.scatter(dl_positions, DL_VDP, color='black', s=6, alpha=0.7, zorder=10)\n",
    "\n",
    "# Plot Xe_VDP boxplot\n",
    "ax.boxplot(Xe_VDP_test, positions=[positions[1]], widths=0.2, patch_artist=True, boxprops=dict(facecolor='gray'))\n",
    "xe_positions = np.random.normal(positions[1], 0.04, size=len(Xe_VDP_test))\n",
    "ax.scatter(xe_positions, Xe_VDP_test, color='black', s=6, alpha=0.7, zorder=10)\n",
    "\n",
    "# Set x-axis tick labels\n",
    "ax.set_xticks(positions)\n",
    "ax.set_xticklabels(['DL-Vent', 'Xe-Vent'])\n",
    "\n",
    "# Set title and labels\n",
    "ax.set_title('VDP')\n",
    "ax.set_ylabel('VDP (%)')\n",
    "plt.savefig(\"/mnt/nas203/forGPU/leesangy/Xe_vent VDP vs. DL_vent VDP.png\", dpi=1200, bbox_inches='tight', pad_inches = 0)\n",
    "# Show the plot\n",
    "plt.show()\n"
   ]
  },
  {
   "cell_type": "code",
   "execution_count": 52,
   "metadata": {},
   "outputs": [
    {
     "name": "stdout",
     "output_type": "stream",
     "text": [
      "Wilcoxon signed-rank test p-value: 0.7655192919016102\n"
     ]
    }
   ],
   "source": [
    "png_image = Image.open('/mnt/nas203/forGPU/leesangy/Xe_vent VDP vs. DL_vent VDP.png')\n",
    "dpi=1200\n",
    "png_image.save('/mnt/nas203/forGPU/leesangy/Xe_vent VDP vs. DL_vent VDP.tiff', format='tiff', dpi = (1200,1200))\n",
    "\n",
    "import scipy.stats as stats\n",
    "import statsmodels.stats.multitest as multi\n",
    "\n",
    "# Perform Wilcoxon signed-rank test\n",
    "statistic, p_value = stats.wilcoxon(Xe_VDP_test, DL_VDP)\n",
    "\n",
    "print(\"Wilcoxon signed-rank test p-value:\", p_value)"
   ]
  },
  {
   "cell_type": "code",
   "execution_count": 13,
   "metadata": {},
   "outputs": [
    {
     "data": {
      "image/png": "[encoded data removed]",
      "text/plain": [
       "<Figure size 432x432 with 1 Axes>"
      ]
     },
     "metadata": {
      "needs_background": "light"
     },
     "output_type": "display_data"
    },
    {
     "name": "stdout",
     "output_type": "stream",
     "text": [
      "correlation: 0.8211345939933259\n",
      "slope: 0.8921935459222314\n",
      "intercept: 3.9568414292739185\n",
      "P value 2.7131748359304468e-08\n"
     ]
    }
   ],
   "source": [
    "import scipy.stats as stats\n",
    "\n",
    "x=Xe_VDP_test\n",
    "y=DL_VDP\n",
    "\n",
    "correlation, p_value = stats.spearmanr(x, y)\n",
    "\n",
    "# Perform linear regression\n",
    "slope, intercept, _, _, _ = stats.linregress(x, y)\n",
    "\n",
    "# Generate regression line\n",
    "regression_line = slope * np.array(x) + intercept\n",
    "\n",
    "# Plot the data points and regression line\n",
    "plt.figure(figsize=(6,6))\n",
    "plt.scatter(x,y, color='black', label='Data', s=30)\n",
    "plt.plot(x, regression_line, color='red', label='Regression Line')\n",
    "\n",
    "# Set labels and title\n",
    "plt.xlabel('Xe-Vent VDP (%)')\n",
    "plt.ylabel('DL-Vent VDP (%)')\n",
    "#plt.title('Correlation Plot')\n",
    "\n",
    "# Display slope, intercept, and Spearman coefficient as text\n",
    "#text = f'Slope: {slope:.2f}\\nIntercept: {intercept:.2f}\\nSpearman Coefficient: {correlation:.2f}'\n",
    "#plt.text(4, 47, text, fontsize=12, verticalalignment='top')\n",
    "\n",
    "plt.savefig(\"/mnt/nas203/forGPU/leesangy/Xe_vent VDP vs. DL_vent VDP correlation.png\", dpi=1200)\n",
    "plt.show()\n",
    "\n",
    "print(\"correlation:\", correlation)\n",
    "print(\"slope:\", slope)\n",
    "print(\"intercept:\", intercept)\n",
    "print(\"P value\", p_value)"
   ]
  },
  {
   "cell_type": "code",
   "execution_count": 58,
   "metadata": {},
   "outputs": [],
   "source": [
    "png_image = Image.open('/mnt/nas203/forGPU/leesangy/Xe_vent VDP vs. DL_vent VDP correlation.png')\n",
    "dpi=1200\n",
    "png_image.save('/mnt/nas203/forGPU/leesangy/Xe_vent VDP vs. DL_vent VDP correlation.tiff', format='tiff', dpi = (1200,1200))"
   ]
  },
  {
   "cell_type": "code",
   "execution_count": 109,
   "metadata": {},
   "outputs": [
    {
     "data": {
      "image/png": "[encoded data removed]",
      "text/plain": [
       "<Figure size 432x432 with 1 Axes>"
      ]
     },
     "metadata": {
      "needs_background": "light"
     },
     "output_type": "display_data"
    },
    {
     "name": "stdout",
     "output_type": "stream",
     "text": [
      "-35.4913051317707 15.101946929536842 -65.09112111366291 -5.891489149878492\n"
     ]
    }
   ],
   "source": [
    "differences = np.array(y) - np.array(x)\n",
    "means = (np.array(x) + np.array(y)) / 2\n",
    "#means = np.array(y)\n",
    "\n",
    "# Calculate the mean bias, lower limit, and upper limit\n",
    "mean_bias = np.mean(differences)\n",
    "lower_limit = mean_bias - 1.96 * np.std(differences)  # 95% CI calculation\n",
    "upper_limit = mean_bias + 1.96 * np.std(differences)\n",
    "plt.figure(figsize=(6,6))\n",
    "# Plot the Bland-Altman plot\n",
    "plt.scatter(means, differences, color='black', s=30)\n",
    "plt.axhline(mean_bias, color='red', linestyle='--', label='Mean Bias')\n",
    "plt.axhline(lower_limit, color='green', linestyle=':', label='Lower Limit')\n",
    "plt.axhline(upper_limit, color='green', linestyle=':', label='Upper Limit')\n",
    "plt.axhline(0, color='black', linestyle='-', linewidth=0.5)\n",
    "plt.xlabel('Average % (DL-Vent + Xe-Vent VDP)/2')\n",
    "plt.ylabel('Difference % (DL-Vent - Xe-Vent VDP)')\n",
    "#plt.title('Bland-Altman Plot')\n",
    "plt.legend()\n",
    "#plt.savefig(\"/mnt/nas203/forGPU/leesangy/Xe_vent VDP vs. DL_vent VDP bland altman.png\", dpi=1200)\n",
    "\n",
    "# Display the mean difference and 95% CIs as text\n",
    "#mean_diff_text = f'Mean Difference: {mean_bias:.2f}'\n",
    "#ci_text = f'95% CIs: [{lower_limit:.2f}, {upper_limit:.2f}]'\n",
    "#plt.text(np.mean(means), np.mean(differences), mean_diff_text, fontsize=12, verticalalignment='bottom')\n",
    "#plt.text(np.mean(means), lower_limit, ci_text, fontsize=10, verticalalignment='top')\n",
    "#plt.savefig(\"/mnt/nas203/forGPU/leesangy/final_inference/pix2pix_256/test22/bland-altman.png\")\n",
    "# Show the plot\n",
    "plt.show()\n",
    "\n",
    "mean_bias = np.mean(differences)\n",
    "std_bias = np.std(differences)\n",
    "lower_limit = mean_bias - 1.96 * np.std(differences)  # 95% CI calculation\n",
    "upper_limit = mean_bias + 1.96 * np.std(differences)\n",
    "\n",
    "print(mean_bias, std_bias, lower_limit, upper_limit)"
   ]
  },
  {
   "cell_type": "code",
   "execution_count": 110,
   "metadata": {},
   "outputs": [],
   "source": [
    "png_image = Image.open('/mnt/nas203/forGPU/leesangy/Xe_vent VDP vs. DL_vent VDP bland altman.png')\n",
    "dpi=1200\n",
    "png_image.save('/mnt/nas203/forGPU/leesangy/Xe_vent VDP vs. DL_vent VDP bland altman.tiff', format='tiff', dpi = (1200,1200))"
   ]
  },
  {
   "cell_type": "code",
   "execution_count": 14,
   "metadata": {},
   "outputs": [
    {
     "name": "stdout",
     "output_type": "stream",
     "text": [
      "6000\n",
      "6000\n",
      "008\n"
     ]
    }
   ],
   "source": [
    "test_data_dir = \"/mnt/nas203/forGPU/leesangy/Task_VQ_mismatch/final_inference/testset_gif/nifti/*.nii.gz\"\n",
    "test_data_list = list_sort_nicely(glob.glob(test_data_dir))\n",
    "print(len(test_data_list))\n",
    "\n",
    "test_output_dir = \"/mnt/nas203/forGPU/leesangy/Task_VQ_mismatch/final_inference/multitasking_G_256/test22/nifti/*.nii.gz\"\n",
    "test_output_list = list_sort_nicely(glob.glob(test_output_dir))\n",
    "print(len(test_output_list))\n",
    "\n",
    "print(test_data_list[0][-27:-24])"
   ]
  },
  {
   "cell_type": "code",
   "execution_count": 17,
   "metadata": {},
   "outputs": [
    {
     "name": "stdout",
     "output_type": "stream",
     "text": [
      "0 0.001166832447052002 min\n",
      "500 0.7004475871721904 min\n",
      "1000 1.0285882790883383 min\n",
      "1500 1.385950231552124 min\n",
      "2000 1.7596139709154766 min\n",
      "2500 2.0628679990768433 min\n",
      "3000 2.3365230679512026 min\n",
      "3500 2.716923248767853 min\n",
      "4000 3.141487101713816 min\n",
      "4500 4.056855511665344 min\n",
      "5000 4.383727125326792 min\n",
      "5500 4.748579188187917 min\n",
      "5999\n"
     ]
    }
   ],
   "source": [
    "#Ventilation defects dice\n",
    "\n",
    "import time\n",
    "\n",
    "def dice_coefficient(y_true, y_pred):\n",
    "    intersection = np.sum(np.logical_and(y_true, y_pred))\n",
    "    sum_pixels = np.sum(y_true) + np.sum(y_pred)\n",
    "    dice = 2.0 * intersection / sum_pixels if sum_pixels > 0 else 0.0\n",
    "    return dice\n",
    "\n",
    "patient = \"none\"\n",
    "Dice_list = []\n",
    "per_patient_dice = []\n",
    "start_time = time.time()\n",
    "centers = [0.20207, 0.38160, 0.56472]\n",
    "\n",
    "def has_ones(image_array):\n",
    "    for row in image_array:\n",
    "        if 1 in row:\n",
    "            return True\n",
    "    return False\n",
    "\n",
    "for i in range(len(test_data_list)):\n",
    "    test_data = test_data_list[i]\n",
    "    if test_data[-27:-24] != patient:\n",
    "        patient = test_data[-27:-24]\n",
    "        Dice_list.append(np.mean(per_patient_dice))\n",
    "        per_patient_dice = []\n",
    "        #print(Dice_list)\n",
    "    \n",
    "    test_file = nib.load(test_data)\n",
    "    test_data = np.rot90(test_file.get_fdata().squeeze(), k=3)\n",
    "    test_copied = test_data.copy()\n",
    "    test_background_mask = (test_data != 0)\n",
    "    test_copied[(test_copied > 0) & (test_copied < centers[0])] = 2\n",
    "    test_copied[(test_copied >= centers[0]) & (test_copied <= 1)] = 0\n",
    "    test_copied[test_copied ==2]= 1\n",
    "    \n",
    "    test_output = test_output_list[i]\n",
    "    test_output = nib.load(test_output)\n",
    "    test_output_data = np.rot90(np.rot90(np.rot90(test_output.get_fdata().squeeze(), k=3),k=3),k=3)\n",
    "    test_output_copied = test_output_data.copy()\n",
    "    test_output_copied = test_output_copied * test_background_mask\n",
    "    test_output_copied[(test_output_copied > 0) & (test_output_copied < centers[0])] = 2\n",
    "    test_output_copied[(test_output_copied >= centers[0]) & (test_output_copied <= 1)] = 0\n",
    "    test_output_copied[test_output_copied==2]=1\n",
    "    \n",
    "    dice = dice_coefficient(test_copied, test_output_copied)*100\n",
    "    if has_ones(test_copied) == False and has_ones(test_output_copied) == False:\n",
    "        dice = 100\n",
    "    per_patient_dice.append(dice)\n",
    "    \n",
    "    if i ==5999:\n",
    "        print(i)\n",
    "        Dice_list.append(np.mean(per_patient_dice))\n",
    "    \n",
    "    if i % 500 == 0:\n",
    "        print(i, (time.time()-start_time)/60, \"min\")"
   ]
  },
  {
   "cell_type": "code",
   "execution_count": 72,
   "metadata": {},
   "outputs": [
    {
     "name": "stdout",
     "output_type": "stream",
     "text": [
      "0 0.007786409060160319 min\n",
      "500 0.5957030296325684 min\n",
      "1000 0.8430258870124817 min\n",
      "1500 1.0748941421508789 min\n",
      "2000 1.6137370864550273 min\n",
      "2500 1.874949030081431 min\n",
      "3000 2.1827955643335977 min\n",
      "3500 2.8243848999341328 min\n",
      "4000 3.082107337315877 min\n",
      "4500 3.3319289247194925 min\n",
      "5000 3.557260290781657 min\n",
      "5500 4.02300994793574 min\n",
      "5999\n"
     ]
    }
   ],
   "source": [
    "#Ventilation dice\n",
    "\n",
    "patient = \"none\"\n",
    "ventilation_Dice_list = []\n",
    "per_patient_dice = []\n",
    "start_time = time.time()\n",
    "centers = [0.20207, 0.38160, 0.56472]\n",
    "\n",
    "def has_ones(image_array):\n",
    "    for row in image_array:\n",
    "        if 1 in row:\n",
    "            return True\n",
    "    return False\n",
    "\n",
    "for i in range(len(test_data_list)):\n",
    "    test_data = test_data_list[i]\n",
    "    if test_data[-27:-24] != patient:\n",
    "        patient = test_data[-27:-24]\n",
    "        ventilation_Dice_list.append(np.mean(per_patient_dice))\n",
    "        per_patient_dice = []\n",
    "        #print(Dice_list)\n",
    "    \n",
    "    test_file = nib.load(test_data)\n",
    "    test_data = np.rot90(test_file.get_fdata().squeeze(), k=3)\n",
    "    test_copied = test_data.copy()\n",
    "    test_background_mask = (test_data != 0)\n",
    "    test_copied[(test_copied > 0) & (test_copied < centers[0])] = 0\n",
    "    test_copied[(test_copied >= centers[0]) & (test_copied <= 1)] = 2\n",
    "    test_copied[test_copied ==2]= 1\n",
    "    \n",
    "    test_output = test_output_list[i]\n",
    "    test_output = nib.load(test_output)\n",
    "    test_output_data = np.rot90(np.rot90(np.rot90(test_output.get_fdata().squeeze(), k=3),k=3),k=3)\n",
    "    test_output_copied = test_output_data.copy()\n",
    "    test_output_copied = test_output_copied * test_background_mask\n",
    "    test_output_copied[(test_output_copied > 0) & (test_output_copied < centers[0])] = 0\n",
    "    test_output_copied[(test_output_copied >= centers[0]) & (test_output_copied <= 1)] = 2\n",
    "    test_output_copied[test_output_copied==2]=1\n",
    "    \n",
    "    dice = dice_coefficient(test_copied, test_output_copied)*100\n",
    "    if has_ones(test_copied) == False and has_ones(test_output_copied) == False:\n",
    "        dice = 100\n",
    "    per_patient_dice.append(dice)\n",
    "    \n",
    "    if i ==5999:\n",
    "        print(i)\n",
    "        ventilation_Dice_list.append(np.mean(per_patient_dice))\n",
    "    \n",
    "    if i % 500 == 0:\n",
    "        print(i, (time.time()-start_time)/60, \"min\")"
   ]
  },
  {
   "cell_type": "code",
   "execution_count": 18,
   "metadata": {},
   "outputs": [
    {
     "name": "stdout",
     "output_type": "stream",
     "text": [
      "55.852293669466995 8.127197330162021\n",
      "30\n",
      "30\n",
      "30\n"
     ]
    },
    {
     "ename": "NameError",
     "evalue": "name 'ventilation_Dice_list' is not defined",
     "output_type": "error",
     "traceback": [
      "\u001b[0;31m---------------------------------------------------------------------------\u001b[0m",
      "\u001b[0;31mNameError\u001b[0m                                 Traceback (most recent call last)",
      "\u001b[0;32m<ipython-input-18-1111af29ad91>\u001b[0m in \u001b[0;36m<module>\u001b[0;34m\u001b[0m\n\u001b[1;32m     10\u001b[0m \u001b[0mprint\u001b[0m\u001b[0;34m(\u001b[0m\u001b[0mlen\u001b[0m\u001b[0;34m(\u001b[0m\u001b[0mXe_VDP_test\u001b[0m\u001b[0;34m)\u001b[0m\u001b[0;34m)\u001b[0m\u001b[0;34m\u001b[0m\u001b[0;34m\u001b[0m\u001b[0m\n\u001b[1;32m     11\u001b[0m \u001b[0;34m\u001b[0m\u001b[0m\n\u001b[0;32m---> 12\u001b[0;31m \u001b[0mventilation_Dice_list\u001b[0m \u001b[0;34m=\u001b[0m \u001b[0;34m[\u001b[0m\u001b[0mx\u001b[0m \u001b[0;32mfor\u001b[0m \u001b[0mx\u001b[0m \u001b[0;32min\u001b[0m \u001b[0mventilation_Dice_list\u001b[0m \u001b[0;32mif\u001b[0m \u001b[0mstr\u001b[0m\u001b[0;34m(\u001b[0m\u001b[0mx\u001b[0m\u001b[0;34m)\u001b[0m \u001b[0;34m!=\u001b[0m \u001b[0;34m'nan'\u001b[0m\u001b[0;34m]\u001b[0m\u001b[0;34m\u001b[0m\u001b[0;34m\u001b[0m\u001b[0m\n\u001b[0m\u001b[1;32m     13\u001b[0m \u001b[0;34m\u001b[0m\u001b[0m\n\u001b[1;32m     14\u001b[0m \u001b[0mmean_dice\u001b[0m \u001b[0;34m=\u001b[0m\u001b[0mnp\u001b[0m\u001b[0;34m.\u001b[0m\u001b[0mmean\u001b[0m\u001b[0;34m(\u001b[0m\u001b[0mventilation_Dice_list\u001b[0m\u001b[0;34m)\u001b[0m\u001b[0;34m\u001b[0m\u001b[0;34m\u001b[0m\u001b[0m\n",
      "\u001b[0;31mNameError\u001b[0m: name 'ventilation_Dice_list' is not defined"
     ]
    }
   ],
   "source": [
    "Dice_list = [x for x in Dice_list if str(x) != 'nan']\n",
    "        \n",
    "mean_dice =np.mean(Dice_list)\n",
    "sd_dice=np.std(Dice_list)\n",
    "\n",
    "print(mean_dice, sd_dice)\n",
    "\n",
    "print(len(Dice_list))\n",
    "print(len(DL_VDP))\n",
    "print(len(Xe_VDP_test))\n",
    "\n",
    "ventilation_Dice_list = [x for x in ventilation_Dice_list if str(x) != 'nan']\n",
    "        \n",
    "mean_dice =np.mean(ventilation_Dice_list)\n",
    "sd_dice=np.std(ventilation_Dice_list)\n",
    "\n",
    "print(mean_dice, sd_dice)\n",
    "\n",
    "print(len(ventilation_Dice_list))\n",
    "print(len(DL_VDP))\n",
    "print(len(Xe_VDP_test))"
   ]
  },
  {
   "cell_type": "code",
   "execution_count": 19,
   "metadata": {},
   "outputs": [
    {
     "data": {
      "image/png": "[encoded data removed]",
      "text/plain": [
       "<Figure size 432x432 with 1 Axes>"
      ]
     },
     "metadata": {
      "needs_background": "light"
     },
     "output_type": "display_data"
    },
    {
     "name": "stdout",
     "output_type": "stream",
     "text": [
      "-0.058954393770856504 0.7569754726974458\n",
      "-0.00867630700778643 0.9637059421012134\n",
      "slope1: 0.18392158487865684\n",
      "y intercept 1: 8.113867621466342\n",
      "slope2: 0.08589759696977821\n",
      "y intercept 2: 15.563410726238725\n",
      "P value: 2.7131748359304468e-08\n"
     ]
    }
   ],
   "source": [
    "import scipy.stats as stats\n",
    "import statsmodels.stats.multitest as multi\n",
    "\n",
    "x=Dice_list\n",
    "y1=Xe_VDP_test\n",
    "y2=DL_VDP\n",
    "\n",
    "correlation1, p_value1 = stats.spearmanr(x, y1)\n",
    "correlation2, p_value2 = stats.spearmanr(x, y2)\n",
    "# Perform linear regression\n",
    "slope1, intercept1, _, _, _ = stats.linregress(x, y1)\n",
    "slope2, intercept2, _, _, _ = stats.linregress(x, y2)\n",
    "# Generate regression line\n",
    "regression_line1 = slope1 * np.array(x) + intercept1\n",
    "regression_line2 = slope2 * np.array(x) + intercept2\n",
    "\n",
    "# Plot the data points and regression line\n",
    "plt.figure(figsize=(6,6))\n",
    "plt.axis('on')\n",
    "plt.scatter(x,y1, color='black', label='Xe_VDP Data', marker='o', s=30)\n",
    "plt.plot(x, regression_line1, color='red',  label='Xe Regression Line')\n",
    "plt.scatter(x,y2, color='black', label='DL_VDP Data',marker='s', s=30, facecolors='none')\n",
    "plt.plot(x, regression_line2, color='blue', label='DL-VDP Regression Line')\n",
    "\n",
    "\n",
    "# Set labels and title\n",
    "plt.xlabel('DSC Ventilation defects (%)')\n",
    "plt.ylabel('Xe-Vent, DL-Vent VDP (%)')\n",
    "#plt.title('Correlation Plot')\n",
    "\n",
    "#plt.savefig(\"/mnt/nas203/forGPU/leesangy/DSC Ventilation defects vs. Xe-Vent, DL-Vent VDP.png\", dpi=1200)\n",
    "#png_image = Image.open('/mnt/nas203/forGPU/leesangy/DSC Ventilation defects vs. Xe-Vent, DL-Vent VDP.png')\n",
    "#dpi=1200\n",
    "#png_image.save('/mnt/nas203/forGPU/leesangy/DSC Ventilation defects vs. Xe-Vent, DL-Vent VDP.tiff', format='tiff', dpi = (1200,1200))\n",
    "plt.show()\n",
    "\n",
    "print(correlation1, p_value1)\n",
    "print(correlation2, p_value2)\n",
    "print(\"slope1:\", slope1)\n",
    "print(\"y intercept 1:\", intercept1)\n",
    "print(\"slope2:\", slope2)\n",
    "print(\"y intercept 2:\", intercept2)"
   ]
  },
  {
   "cell_type": "code",
   "execution_count": 33,
   "metadata": {},
   "outputs": [
    {
     "name": "stdout",
     "output_type": "stream",
     "text": [
      "FEV1_pred: 45.13333333333333 18.711375031128938\n",
      "FVC_pred: 81.93333333333334 14.106578449629644\n",
      "FEV1_FVC: 38.833333333333336 12.524864159831123\n",
      "FEF25_75_pred: 17.766666666666666 11.377414273707165\n",
      "DLCO_pred: 55.285714285714285 19.28888862764768\n",
      "DLCO_VA_pred: 68.39285714285714 22.713022202054493\n",
      "DL_Hb_pred: 55.535714285714285 19.402654720529394\n"
     ]
    }
   ],
   "source": [
    "import pandas as pd\n",
    "import matplotlib.pyplot as plt\n",
    "import scipy.stats as stats\n",
    "\n",
    "# Read the Excel file into a pandas DataFrame\n",
    "df = pd.read_excel(\"/mnt/nas203/forGPU/leesangy/Task_VQ_mismatch/manuscript/pft_test_set(30).xlsx\", header=None)\n",
    "PFT = df.iloc[0].to_list()\n",
    "pft_1 = PFT[1]  # Replace with the actual column names in your Excel file\n",
    "pft_2 = PFT[2] \n",
    "pft_3 = PFT[3] \n",
    "pft_4 = PFT[4] \n",
    "pft_5 = PFT[5] \n",
    "pft_6 = PFT[6] \n",
    "pft_7 = PFT[7] \n",
    "# Read the Excel file into a pandas DataFrame\n",
    "df = pd.read_excel(\"/mnt/nas203/forGPU/leesangy/Task_VQ_mismatch/manuscript/pft_test_set(30).xlsx\")\n",
    "\n",
    "column_index_1 = df.columns.get_loc(pft_1)\n",
    "column_index_2 = df.columns.get_loc(pft_2)\n",
    "column_index_3 = df.columns.get_loc(pft_3)\n",
    "column_index_4 = df.columns.get_loc(pft_4)\n",
    "column_index_5 = df.columns.get_loc(pft_5)\n",
    "column_index_6 = df.columns.get_loc(pft_6)\n",
    "column_index_7 = df.columns.get_loc(pft_7)\n",
    "\n",
    "# Extract values for category \"A\"\n",
    "FEV1_pred = df.iloc[:, column_index_1].tolist()\n",
    "FVC_pred = df.iloc[:, column_index_2].tolist()\n",
    "FEV1_FVC = df.iloc[:, column_index_3].tolist()\n",
    "FEF25_75_pred = df.iloc[:, column_index_4].tolist()\n",
    "DLCO_pred = df.iloc[:, column_index_5].tolist()\n",
    "DLCO_VA_pred = df.iloc[:, column_index_6].tolist()\n",
    "DL_Hb_pred = df.iloc[:, column_index_7].tolist()\n",
    "\n",
    "DLCO_pred = [x for x in DLCO_pred if not math.isnan(x)]\n",
    "DLCO_VA_pred = [x for x in DLCO_VA_pred if not math.isnan(x)]\n",
    "DL_Hb_pred = [x for x in DL_Hb_pred if not math.isnan(x)]\n",
    "\n",
    "\n",
    "print(\"FEV1_pred:\", np.mean(FEV1_pred), np.std(FEV1_pred))\n",
    "print(\"FVC_pred:\", np.mean(FVC_pred), np.std(FVC_pred))\n",
    "print(\"FEV1_FVC:\", np.mean(FEV1_FVC), np.std(FEV1_FVC))\n",
    "print(\"FEF25_75_pred:\", np.mean(FEF25_75_pred), np.std(FEF25_75_pred))\n",
    "print(\"DLCO_pred:\", np.mean(DLCO_pred), np.std(DLCO_pred))\n",
    "print(\"DLCO_VA_pred:\", np.mean(DLCO_VA_pred), np.std(DLCO_VA_pred))\n",
    "print(\"DL_Hb_pred:\", np.mean(DL_Hb_pred), np.std(DL_Hb_pred))"
   ]
  },
  {
   "cell_type": "code",
   "execution_count": 52,
   "metadata": {},
   "outputs": [
    {
     "name": "stdout",
     "output_type": "stream",
     "text": [
      "P value Xe_VDP: 0.015211631967029097\n",
      "P value DL_VDP: 0.3752280585103325\n"
     ]
    },
    {
     "data": {
      "image/png": "[encoded data removed]",
      "text/plain": [
       "<Figure size 432x432 with 1 Axes>"
      ]
     },
     "metadata": {
      "needs_background": "light"
     },
     "output_type": "display_data"
    },
    {
     "name": "stdout",
     "output_type": "stream",
     "text": [
      "P-value: 0.2724054125118607\n"
     ]
    }
   ],
   "source": [
    "x=FVC_pred\n",
    "y1=Xe_VDP_test\n",
    "y2=DL_VDP\n",
    "\n",
    "correlation1, p_value1 = stats.spearmanr(x, y1)\n",
    "correlation2, p_value2 = stats.spearmanr(x, y2)\n",
    "\n",
    "print(\"P value Xe_VDP:\", p_value1)\n",
    "print(\"P value DL_VDP:\", p_value2)\n",
    "\n",
    "# Perform linear regression\n",
    "slope1, intercept1, _, _, _ = stats.linregress(x, y1)\n",
    "slope2, intercept2, _, _, _ = stats.linregress(x, y2)\n",
    "\n",
    "# Generate regression line\n",
    "regression_line1 = slope1 * np.array(x) + intercept1\n",
    "regression_line2 = slope2 * np.array(x) + intercept2\n",
    "# Plot the data points and regression line\n",
    "plt.figure(figsize=(6,6))\n",
    "plt.scatter(x,y1, color='black', label='Xe_VDP Data', marker='o', s=30)\n",
    "plt.plot(x, regression_line1, color='red',  label='Xe Regression Line')\n",
    "plt.scatter(x,y2, color='black', label='DL_VDP Data',marker='s', s=30, facecolors='none')\n",
    "plt.plot(x, regression_line2, color='blue', label='DL Regression Line')\n",
    "\n",
    "# Set labels and title\n",
    "plt.xlabel('FVC (%pred)')\n",
    "plt.ylabel('Xe_Vent, DL-Vent VDP (%)')\n",
    "#plt.title('Correlation Plot')\n",
    "#plt.legend(loc='upper right')\n",
    "\n",
    "# Display slope, intercept, and Spearman coefficient as text\n",
    "#text = f'FVC(%pred) vs. Xe_VDP\\nSpearman Coefficient: {correlation1:.2f}'\n",
    "#plt.text(56,46, text, fontsize=12, verticalalignment='top')\n",
    "#text = f'FVC(%pred) vs. DL_VDP\\nSpearman Coefficient: {correlation2:.2f}'\n",
    "#plt.text(56,40, text, fontsize=12, verticalalignment='top')\n",
    "\n",
    "# Add legend\n",
    "#plt.legend()\n",
    "#plt.savefig(\"/mnt/nas203/forGPU/leesangy/final_inference/multitasking_G_256/test22/DSC ventilation defects vs. DL-vent-vdp.png\")\n",
    "# Show the plot\n",
    "plt.savefig(\"/mnt/nas203/forGPU/leesangy/FVC vs. Xe-Vent, DL-Vent VDP.png\", dpi=1200, linewidth=2)\n",
    "png_image = Image.open('/mnt/nas203/forGPU/leesangy/FVC vs. Xe-Vent, DL-Vent VDP.png')\n",
    "dpi=1200\n",
    "png_image.save('/mnt/nas203/forGPU/leesangy/FVC vs. Xe-Vent, DL-Vent VDP.tiff', format='tiff', dpi = (1200,1200))\n",
    "plt.show()\n",
    "\n",
    "z1 = np.arctanh(correlation1)\n",
    "z2 = np.arctanh(correlation2)\n",
    "n1 = len(y1)\n",
    "n2 = len(y2)\n",
    "se1 = 1 / np.sqrt(n1-3)\n",
    "se2 = 1 / np.sqrt(n2-3)\n",
    "from scipy.stats import t\n",
    "\n",
    "# Calculate the test statistic\n",
    "diff_z = z1 - z2\n",
    "se_diff = np.sqrt(se1**2 + se2**2)\n",
    "t_stat = diff_z / se_diff\n",
    "\n",
    "# Calculate the p-value\n",
    "df = n1 + n2 - 2\n",
    "p_value = 2 * (1 - t.cdf(abs(t_stat), df))\n",
    "print(\"P-value:\", p_value)"
   ]
  },
  {
   "cell_type": "code",
   "execution_count": 53,
   "metadata": {},
   "outputs": [
    {
     "name": "stdout",
     "output_type": "stream",
     "text": [
      "P value Xe_VDP: 0.0001480739207561741\n",
      "P value DL_VDP: 1.5336231197489e-05\n",
      "Xe_VDP_test correlation: -0.6381748344834421\n",
      "DL_VDP correlation: -0.7020590959053983\n"
     ]
    },
    {
     "data": {
      "image/png": "[encoded data removed]",
      "text/plain": [
       "<Figure size 432x432 with 1 Axes>"
      ]
     },
     "metadata": {
      "needs_background": "light"
     },
     "output_type": "display_data"
    },
    {
     "name": "stdout",
     "output_type": "stream",
     "text": [
      "P-value: 0.6708370280676803\n"
     ]
    }
   ],
   "source": [
    "x=FEV1_FVC\n",
    "y1=Xe_VDP_test\n",
    "y2=DL_VDP\n",
    "\n",
    "line_type = {'-' : '-', ## 라인 유형\n",
    "             '--' : '--',\n",
    "             '-.' : '-.',\n",
    "             ':' : ':', '.' : '.   .   .   .'}\n",
    "\n",
    "correlation1, p_value1 = stats.spearmanr(x, y1)\n",
    "correlation2, p_value2 = stats.spearmanr(x, y2)\n",
    "\n",
    "print(\"P value Xe_VDP:\", p_value1)\n",
    "print(\"P value DL_VDP:\", p_value2)\n",
    "print(\"Xe_VDP_test correlation:\", correlation1)\n",
    "print(\"DL_VDP correlation:\", correlation2)\n",
    "\n",
    "# Perform linear regression\n",
    "slope1, intercept1, _, _, _ = stats.linregress(x, y1)\n",
    "slope2, intercept2, _, _, _ = stats.linregress(x, y2)\n",
    "\n",
    "# Generate regression line\n",
    "regression_line1 = slope1 * np.array(x) + intercept1\n",
    "regression_line2 = slope2 * np.array(x) + intercept2\n",
    "# Plot the data points and regression line\n",
    "plt.figure(figsize=(6,6))\n",
    "plt.scatter(x,y1, color='black', label='Xe_VDP Data', marker='o', s=30)\n",
    "plt.plot(x, regression_line1, color='red',  label='Xe Regression Line')\n",
    "plt.scatter(x,y2, color='black', label='DL_VDP Data',marker='s', s=30, facecolors='none')\n",
    "plt.plot(x, regression_line2, color='blue', label='DL Regression Line')\n",
    "\n",
    "# Set labels and title\n",
    "plt.xlabel('FEV$_{1}$/FVC')\n",
    "plt.ylabel('Xe_Vent, DL-Vent VDP (%)')\n",
    "#plt.title('Correlation Plot')\n",
    "#plt.legend(loc='upper right')\n",
    "\n",
    "# Display slope, intercept, and Spearman coefficient as text\n",
    "text = f'FEV1/FVC(%pred) vs. Xe_VDP\\nSpearman Coefficient: {correlation1:.2f}'\n",
    "#plt.text(55,36, text, fontsize=12, verticalalignment='top')\n",
    "text = f'FEV1/FVC(%pred) vs. DL_VDP\\nSpearman Coefficient: {correlation2:.2f}'\n",
    "#plt.text(55,30, text, fontsize=12, verticalalignment='top')\n",
    "\n",
    "# Add legend\n",
    "#plt.legend()\n",
    "#plt.savefig(\"/mnt/nas203/forGPU/leesangy/final_inference/multitasking_G_256/test22/DSC ventilation defects vs. DL-vent-vdp.png\")\n",
    "# Show the plot\n",
    "plt.savefig(\"/mnt/nas203/forGPU/leesangy/FEV1_FVC vs. Xe-Vent, DL-Vent VDP.png\", dpi=1200, linewidth=2)\n",
    "png_image = Image.open('/mnt/nas203/forGPU/leesangy/FEV1_FVC vs. Xe-Vent, DL-Vent VDP.png')\n",
    "dpi=1200\n",
    "png_image.save('/mnt/nas203/forGPU/leesangy/FEV1_FVC vs. Xe-Vent, DL-Vent VDP.tiff', format='tiff', dpi = (1200,1200))\n",
    "plt.show()\n",
    "\n",
    "z1 = np.arctanh(correlation1)\n",
    "z2 = np.arctanh(correlation2)\n",
    "n1 = len(y1)\n",
    "n2 = len(y2)\n",
    "se1 = 1 / np.sqrt(n1-3)\n",
    "se2 = 1 / np.sqrt(n2-3)\n",
    "from scipy.stats import t\n",
    "\n",
    "# Calculate the test statistic\n",
    "diff_z = z1 - z2\n",
    "se_diff = np.sqrt(se1**2 + se2**2)\n",
    "t_stat = diff_z / se_diff\n",
    "\n",
    "# Calculate the p-value\n",
    "df = n1 + n2 - 2\n",
    "p_value = 2 * (1 - t.cdf(abs(t_stat), df))\n",
    "print(\"P-value:\", p_value)"
   ]
  },
  {
   "cell_type": "code",
   "execution_count": 54,
   "metadata": {},
   "outputs": [
    {
     "name": "stdout",
     "output_type": "stream",
     "text": [
      "P value Xe_VDP: 1.9433521850657933e-06\n",
      "P value DL_VDP: 1.5785399831146374e-05\n",
      "Xe_VDP_test correlation: -0.748775519947664\n",
      "DL_VDP correlation: -0.701336737749909\n"
     ]
    },
    {
     "data": {
      "image/png": "[encoded data removed]",
      "text/plain": [
       "<Figure size 432x432 with 1 Axes>"
      ]
     },
     "metadata": {
      "needs_background": "light"
     },
     "output_type": "display_data"
    },
    {
     "name": "stdout",
     "output_type": "stream",
     "text": [
      "P-value: 0.7139981649042366\n"
     ]
    }
   ],
   "source": [
    "x=FEV1_pred\n",
    "y1=Xe_VDP_test\n",
    "y2=DL_VDP\n",
    "\n",
    "correlation1, p_value1 = stats.spearmanr(x, y1)\n",
    "correlation2, p_value2 = stats.spearmanr(x, y2)\n",
    "\n",
    "print(\"P value Xe_VDP:\", p_value1)\n",
    "print(\"P value DL_VDP:\", p_value2)\n",
    "print(\"Xe_VDP_test correlation:\", correlation1)\n",
    "print(\"DL_VDP correlation:\", correlation2)\n",
    "\n",
    "# Perform linear regression\n",
    "slope1, intercept1, _, _, _ = stats.linregress(x, y1)\n",
    "slope2, intercept2, _, _, _ = stats.linregress(x, y2)\n",
    "\n",
    "# Generate regression line\n",
    "regression_line1 = slope1 * np.array(x) + intercept1\n",
    "regression_line2 = slope2 * np.array(x) + intercept2\n",
    "# Plot the data points and regression line\n",
    "plt.figure(figsize=(6,6))\n",
    "plt.scatter(x,y1, color='black', label='Xe_VDP Data', marker='o', s=30)\n",
    "plt.plot(x, regression_line1, color='red',  label='Xe Regression Line')\n",
    "plt.scatter(x,y2, color='black', label='DL_VDP Data',marker='s', s=30, facecolors='none')\n",
    "plt.plot(x, regression_line2, color='blue',  label='DL Regression Line')\n",
    "\n",
    "# Set labels and title\n",
    "#plt.xlabel('FEV1 (%pred)')\n",
    "plt.xlabel('FEV$_{1}$ (%pred)')\n",
    "plt.ylabel('Xe_Vent, DL-Vent VDP (%)')\n",
    "#plt.title('Correlation Plot')\n",
    "#plt.legend(loc='upper right')\n",
    "\n",
    "# Display slope, intercept, and Spearman coefficient as text\n",
    "#text = f'FEV1(%pred) vs. Xe_VDP\\nSpearman Coefficient: {correlation1:.2f}'\n",
    "#plt.text(72,36, text, fontsize=12, verticalalignment='top')\n",
    "#text = f'FEV1(%pred) vs. DL_VDP\\nSpearman Coefficient: {correlation2:.2f}'\n",
    "#plt.text(72,30, text, fontsize=12, verticalalignment='top')\n",
    "\n",
    "# Add legend\n",
    "#plt.legend()\n",
    "#plt.savefig(\"/mnt/nas203/forGPU/leesangy/final_inference/multitasking_G_256/test22/DSC ventilation defects vs. DL-vent-vdp.png\")\n",
    "# Show the plot\n",
    "plt.savefig(\"/mnt/nas203/forGPU/leesangy/FEV1 vs. Xe-Vent, DL-Vent VDP.png\", dpi=1200, linewidth=2)\n",
    "png_image = Image.open('/mnt/nas203/forGPU/leesangy/FEV1 vs. Xe-Vent, DL-Vent VDP.png')\n",
    "dpi=1200\n",
    "png_image.save('/mnt/nas203/forGPU/leesangy/FEV1 vs. Xe-Vent, DL-Vent VDP.tiff', format='tiff', dpi = (1200,1200))\n",
    "plt.show()\n",
    "\n",
    "z1 = np.arctanh(correlation1)\n",
    "z2 = np.arctanh(correlation2)\n",
    "n1 = len(y1)\n",
    "n2 = len(y2)\n",
    "se1 = 1 / np.sqrt(n1-3)\n",
    "se2 = 1 / np.sqrt(n2-3)\n",
    "from scipy.stats import t\n",
    "\n",
    "# Calculate the test statistic\n",
    "diff_z = z1 - z2\n",
    "se_diff = np.sqrt(se1**2 + se2**2)\n",
    "t_stat = diff_z / se_diff\n",
    "\n",
    "# Calculate the p-value\n",
    "df = n1 + n2 - 2\n",
    "p_value = 2 * (1 - t.cdf(abs(t_stat), df))\n",
    "print(\"P-value:\", p_value)"
   ]
  },
  {
   "cell_type": "code",
   "execution_count": 55,
   "metadata": {},
   "outputs": [
    {
     "name": "stdout",
     "output_type": "stream",
     "text": [
      "P value Xe_VDP: 0.0004786214966209617\n",
      "P value DL_VDP: 0.0006355922485428524\n",
      "Xe_VDP_test correlation: -0.5983291529801096\n",
      "DL_VDP correlation: -0.5878438919099884\n"
     ]
    },
    {
     "data": {
      "image/png": "[encoded data removed]",
      "text/plain": [
       "<Figure size 432x432 with 1 Axes>"
      ]
     },
     "metadata": {
      "needs_background": "light"
     },
     "output_type": "display_data"
    },
    {
     "name": "stdout",
     "output_type": "stream",
     "text": [
      "P-value: 0.9528119164948095\n"
     ]
    }
   ],
   "source": [
    "x=FEF25_75_pred\n",
    "y1=Xe_VDP_test\n",
    "y2=DL_VDP\n",
    "\n",
    "correlation1, p_value1 = stats.spearmanr(x, y1)\n",
    "correlation2, p_value2 = stats.spearmanr(x, y2)\n",
    "\n",
    "print(\"P value Xe_VDP:\", p_value1)\n",
    "print(\"P value DL_VDP:\", p_value2)\n",
    "print(\"Xe_VDP_test correlation:\", correlation1)\n",
    "print(\"DL_VDP correlation:\", correlation2)\n",
    "\n",
    "# Perform linear regression\n",
    "slope1, intercept1, _, _, _ = stats.linregress(x, y1)\n",
    "slope2, intercept2, _, _, _ = stats.linregress(x, y2)\n",
    "\n",
    "# Generate regression line\n",
    "regression_line1 = slope1 * np.array(x) + intercept1\n",
    "regression_line2 = slope2 * np.array(x) + intercept2\n",
    "# Plot the data points and regression line\n",
    "plt.figure(figsize=(6,6))\n",
    "plt.scatter(x,y1, color='black', label='Xe_VDP Data', marker='o', s=30)\n",
    "plt.plot(x, regression_line1, color='red',  label='Xe Regression Line')\n",
    "plt.scatter(x,y2, color='black', label='DL_VDP Data',marker='s', s=30, facecolors='none')\n",
    "plt.plot(x, regression_line2, color='blue', label='DL Regression Line')\n",
    "\n",
    "# Set labels and title\n",
    "plt.xlabel('FEF25-75% (%pred)')\n",
    "plt.ylabel('Xe_Vent, DL-Vent VDP (%)')\n",
    "#plt.title('Correlation Plot')\n",
    "#plt.legend(loc='upper right')\n",
    "\n",
    "# Display slope, intercept, and Spearman coefficient as text\n",
    "#text = f'FEF25-75%) vs. Xe_VDP\\nSpearman Coefficient: {correlation1:.2f}'\n",
    "#plt.text(46,36, text, fontsize=12, verticalalignment='top')\n",
    "#text = f'FEF25-75% vs. DL_VDP\\nSpearman Coefficient: {correlation2:.2f}'\n",
    "#plt.text(46,30, text, fontsize=12, verticalalignment='top')\n",
    "\n",
    "plt.savefig(\"/mnt/nas203/forGPU/leesangy/FEF25-75 vs. Xe-Vent, DL-Vent VDP.png\", dpi=1200, linewidth=2)\n",
    "png_image = Image.open('/mnt/nas203/forGPU/leesangy/FEF25-75 vs. Xe-Vent, DL-Vent VDP.png')\n",
    "dpi=1200\n",
    "png_image.save('/mnt/nas203/forGPU/leesangy/FEF25-75 vs. Xe-Vent, DL-Vent VDP.tiff', format='tiff', dpi = (1200,1200))\n",
    "plt.show()\n",
    "\n",
    "z1 = np.arctanh(correlation1)\n",
    "z2 = np.arctanh(correlation2)\n",
    "n1 = len(y1)\n",
    "n2 = len(y2)\n",
    "se1 = 1 / np.sqrt(n1-3)\n",
    "se2 = 1 / np.sqrt(n2-3)\n",
    "from scipy.stats import t\n",
    "\n",
    "# Calculate the test statistic\n",
    "diff_z = z1 - z2\n",
    "se_diff = np.sqrt(se1**2 + se2**2)\n",
    "t_stat = diff_z / se_diff\n",
    "\n",
    "# Calculate the p-value\n",
    "df = n1 + n2 - 2\n",
    "p_value = 2 * (1 - t.cdf(abs(t_stat), df))\n",
    "print(\"P-value:\", p_value)"
   ]
  },
  {
   "cell_type": "code",
   "execution_count": 44,
   "metadata": {},
   "outputs": [],
   "source": [
    "Xe_VDP_partial=Xe_VDP_test.copy()\n",
    "DL_VDP_partial=DL_VDP.copy()"
   ]
  },
  {
   "cell_type": "code",
   "execution_count": 45,
   "metadata": {},
   "outputs": [],
   "source": [
    "del Xe_VDP_partial[14]\n",
    "del Xe_VDP_partial[27]\n",
    "del DL_VDP_partial[14]\n",
    "del DL_VDP_partial[27]"
   ]
  },
  {
   "cell_type": "code",
   "execution_count": 56,
   "metadata": {},
   "outputs": [
    {
     "name": "stdout",
     "output_type": "stream",
     "text": [
      "28\n",
      "P value Xe_VDP: 3.0418272627389593e-05\n",
      "P value DL_VDP: 8.527373993859715e-07\n",
      "Xe_VDP_test correlation: -0.7028213821569244\n",
      "DL_VDP correlation: -0.7827994973517107\n"
     ]
    },
    {
     "data": {
      "image/png": "[encoded data removed]",
      "text/plain": [
       "<Figure size 432x432 with 1 Axes>"
      ]
     },
     "metadata": {
      "needs_background": "light"
     },
     "output_type": "display_data"
    },
    {
     "name": "stdout",
     "output_type": "stream",
     "text": [
      "P-value: 0.5278804857565103\n"
     ]
    }
   ],
   "source": [
    "DLCO_pred = [x for x in DLCO_pred if not math.isnan(x)]\n",
    "\n",
    "print(len(DLCO_pred))\n",
    "\n",
    "x=DLCO_pred\n",
    "y1=Xe_VDP_partial\n",
    "y2=DL_VDP_partial\n",
    "\n",
    "\n",
    "\n",
    "correlation1, p_value1 = stats.spearmanr(x, y1)\n",
    "correlation2, p_value2 = stats.spearmanr(x, y2)\n",
    "\n",
    "print(\"P value Xe_VDP:\", p_value1)\n",
    "print(\"P value DL_VDP:\", p_value2)\n",
    "print(\"Xe_VDP_test correlation:\", correlation1)\n",
    "print(\"DL_VDP correlation:\", correlation2)\n",
    "\n",
    "# Perform linear regression\n",
    "slope1, intercept1, _, _, _ = stats.linregress(x, y1)\n",
    "slope2, intercept2, _, _, _ = stats.linregress(x, y2)\n",
    "\n",
    "# Generate regression line\n",
    "regression_line1 = slope1 * np.array(x) + intercept1\n",
    "regression_line2 = slope2 * np.array(x) + intercept2\n",
    "# Plot the data points and regression line\n",
    "plt.figure(figsize=(6,6))\n",
    "plt.scatter(x,y1, color='black', label='Xe_VDP Data', marker='o', s=30)\n",
    "plt.plot(x, regression_line1, color='red',  label='Xe Regression Line')\n",
    "plt.scatter(x,y2, color='black', label='DL_VDP Data',marker='s', s=30, facecolors='none')\n",
    "plt.plot(x, regression_line2, color='blue', label='DL Regression Line')\n",
    "\n",
    "# Set labels and title\n",
    "plt.xlabel('DL$_{CO}$ (%pred)')\n",
    "#plt.xlabel('FEV$_{1}$ (%pred)')\n",
    "plt.ylabel('Xe_Vent, DL-Vent VDP (%)')\n",
    "#plt.legend(loc='upper right')\n",
    "\n",
    "# Display slope, intercept, and Spearman coefficient as text\n",
    "#text = f'DLCO(%pred) vs. Xe_VDP\\nSpearman Coefficient: {correlation1:.2f}'\n",
    "#plt.text(80,36, text, fontsize=12, verticalalignment='top')\n",
    "#text = f'DLCO(%pred) vs. DL_VDP\\nSpearman Coefficient: {correlation2:.2f}'\n",
    "#plt.text(80,30, text, fontsize=12, verticalalignment='top')\n",
    "\n",
    "plt.savefig(\"/mnt/nas203/forGPU/leesangy/DLCO vs. Xe-Vent, DL-Vent VDP.png\", dpi=1200, linewidth=2)\n",
    "png_image = Image.open('/mnt/nas203/forGPU/leesangy/DLCO vs. Xe-Vent, DL-Vent VDP.png')\n",
    "dpi=1200\n",
    "png_image.save('/mnt/nas203/forGPU/leesangy/DLCO vs. Xe-Vent, DL-Vent VDP.tiff', format='tiff', dpi = (1200,1200))\n",
    "plt.show()\n",
    "\n",
    "z1 = np.arctanh(correlation1)\n",
    "z2 = np.arctanh(correlation2)\n",
    "n1 = len(y1)\n",
    "n2 = len(y2)\n",
    "se1 = 1 / np.sqrt(n1-3)\n",
    "se2 = 1 / np.sqrt(n2-3)\n",
    "from scipy.stats import t\n",
    "\n",
    "# Calculate the test statistic\n",
    "diff_z = z1 - z2\n",
    "se_diff = np.sqrt(se1**2 + se2**2)\n",
    "t_stat = diff_z / se_diff\n",
    "\n",
    "# Calculate the p-value\n",
    "df = n1 + n2 - 2\n",
    "p_value = 2 * (1 - t.cdf(abs(t_stat), df))\n",
    "print(\"P-value:\", p_value)"
   ]
  },
  {
   "cell_type": "code",
   "execution_count": 57,
   "metadata": {},
   "outputs": [
    {
     "name": "stdout",
     "output_type": "stream",
     "text": [
      "P value Xe_VDP: 0.0016659537603632534\n",
      "P value DL_VDP: 9.118026963912462e-05\n",
      "Xe_VDP_test correlation: -0.5666942477329214\n",
      "DL_VDP correlation: -0.6715970495123844\n"
     ]
    },
    {
     "data": {
      "image/png": "[encoded data removed]",
      "text/plain": [
       "<Figure size 432x432 with 1 Axes>"
      ]
     },
     "metadata": {
      "needs_background": "light"
     },
     "output_type": "display_data"
    },
    {
     "name": "stdout",
     "output_type": "stream",
     "text": [
      "P-value: 0.54797635685703\n"
     ]
    }
   ],
   "source": [
    "#del DLCO_VA_pred[19]\n",
    "DLCO_VA_pred = [x for x in DLCO_VA_pred if not math.isnan(x)]\n",
    "\n",
    "x=DLCO_VA_pred\n",
    "y1=Xe_VDP_partial\n",
    "y2=DL_VDP_partial\n",
    "\n",
    "correlation1, p_value1 = stats.spearmanr(x, y1)\n",
    "correlation2, p_value2 = stats.spearmanr(x, y2)\n",
    "\n",
    "print(\"P value Xe_VDP:\", p_value1)\n",
    "print(\"P value DL_VDP:\", p_value2)\n",
    "print(\"Xe_VDP_test correlation:\", correlation1)\n",
    "print(\"DL_VDP correlation:\", correlation2)\n",
    "\n",
    "# Perform linear regression\n",
    "slope1, intercept1, _, _, _ = stats.linregress(x, y1)\n",
    "slope2, intercept2, _, _, _ = stats.linregress(x, y2)\n",
    "\n",
    "# Generate regression line\n",
    "regression_line1 = slope1 * np.array(x) + intercept1\n",
    "regression_line2 = slope2 * np.array(x) + intercept2\n",
    "# Plot the data points and regression line\n",
    "plt.figure(figsize=(6,6))\n",
    "plt.scatter(x,y1, color='black', label='Xe_VDP Data', marker='o', s=30)\n",
    "plt.plot(x, regression_line1, color='red',  label='Xe Regression Line')\n",
    "plt.scatter(x,y2, color='black', label='DL_VDP Data',marker='s', s=30, facecolors='none')\n",
    "plt.plot(x, regression_line2, color='blue',  label='DL Regression Line')\n",
    "\n",
    "# Set labels and title\n",
    "plt.xlabel('DL$_{CO}$/VA (%pred)')\n",
    "plt.ylabel('Xe_Vent, DL-Vent VDP (%)')\n",
    "#plt.legend(loc='upper right')\n",
    "\n",
    "# Display slope, intercept, and Spearman coefficient as text\n",
    "#text = f'DLCO/VA(%pred) vs. Xe_VDP\\nSpearman Coefficient: {correlation1:.2f}'\n",
    "#plt.text(93,36, text, fontsize=12, verticalalignment='top')\n",
    "#text = f'DLCO/VA(%pred) vs. DL_VDP\\nSpearman Coefficient: {correlation2:.2f}'\n",
    "#plt.text(93,30, text, fontsize=12, verticalalignment='top')\n",
    "\n",
    "plt.savefig(\"/mnt/nas203/forGPU/leesangy/DLCO_VA vs. Xe-Vent, DL-Vent VDP.png\", dpi=1200, linewidth=2)\n",
    "png_image = Image.open('/mnt/nas203/forGPU/leesangy/DLCO_VA vs. Xe-Vent, DL-Vent VDP.png')\n",
    "dpi=1200\n",
    "png_image.save('/mnt/nas203/forGPU/leesangy/DLCO_VA vs. Xe-Vent, DL-Vent VDP.tiff', format='tiff', dpi = (1200,1200))\n",
    "plt.show()\n",
    "\n",
    "\n",
    "z1 = np.arctanh(correlation1)\n",
    "z2 = np.arctanh(correlation2)\n",
    "n1 = len(y1)\n",
    "n2 = len(y2)\n",
    "se1 = 1 / np.sqrt(n1-3)\n",
    "se2 = 1 / np.sqrt(n2-3)\n",
    "from scipy.stats import t\n",
    "\n",
    "# Calculate the test statistic\n",
    "diff_z = z1 - z2\n",
    "se_diff = np.sqrt(se1**2 + se2**2)\n",
    "t_stat = diff_z / se_diff\n",
    "\n",
    "# Calculate the p-value\n",
    "df = n1 + n2 - 2\n",
    "p_value = 2 * (1 - t.cdf(abs(t_stat), df))\n",
    "print(\"P-value:\", p_value)"
   ]
  },
  {
   "cell_type": "code",
   "execution_count": 58,
   "metadata": {},
   "outputs": [
    {
     "name": "stdout",
     "output_type": "stream",
     "text": [
      "P value Xe_VDP: 2.8411086253360302e-05\n",
      "P value DL_VDP: 1.0215840326291892e-06\n",
      "Xe_VDP_test correlation: -0.7046420931238419\n",
      "DL_VDP correlation: -0.7794059063468535\n"
     ]
    },
    {
     "data": {
      "image/png": "[encoded data removed]",
      "text/plain": [
       "<Figure size 432x432 with 1 Axes>"
      ]
     },
     "metadata": {
      "needs_background": "light"
     },
     "output_type": "display_data"
    },
    {
     "name": "stdout",
     "output_type": "stream",
     "text": [
      "P-value: 0.5564362367405331\n"
     ]
    }
   ],
   "source": [
    "#del DL_Hb_pred[19]\n",
    "DL_Hb_pred = [x for x in DL_Hb_pred if not math.isnan(x)]\n",
    "\n",
    "x=DL_Hb_pred\n",
    "y1=Xe_VDP_partial\n",
    "y2=DL_VDP_partial\n",
    "\n",
    "correlation1, p_value1 = stats.spearmanr(x, y1)\n",
    "correlation2, p_value2 = stats.spearmanr(x, y2)\n",
    "\n",
    "print(\"P value Xe_VDP:\", p_value1)\n",
    "print(\"P value DL_VDP:\", p_value2)\n",
    "print(\"Xe_VDP_test correlation:\", correlation1)\n",
    "print(\"DL_VDP correlation:\", correlation2)\n",
    "\n",
    "# Perform linear regression\n",
    "slope1, intercept1, _, _, _ = stats.linregress(x, y1)\n",
    "slope2, intercept2, _, _, _ = stats.linregress(x, y2)\n",
    "\n",
    "# Generate regression line\n",
    "regression_line1 = slope1 * np.array(x) + intercept1\n",
    "regression_line2 = slope2 * np.array(x) + intercept2\n",
    "# Plot the data points and regression line\n",
    "plt.figure(figsize=(6,6))\n",
    "plt.scatter(x,y1, color='black', label='Xe_VDP Data', marker='o', s=30)\n",
    "plt.plot(x, regression_line1, color='red',  label='Xe Regression Line')\n",
    "plt.scatter(x,y2, color='black', label='DL_VDP Data',marker='s', s=30, facecolors='none')\n",
    "plt.plot(x, regression_line2, color='blue',  label='DL Regression Line')\n",
    "\n",
    "# Set labels and title\n",
    "plt.xlabel('DL$_{CO}$-Hb (%pred)')\n",
    "plt.ylabel('Xe_Vent, DL-Vent VDP (%)')\n",
    "#plt.legend(loc='upper right')\n",
    "\n",
    "# Display slope, intercept, and Spearman coefficient as text\n",
    "#text = f'DLCO-Hb(%pred) vs. Xe_VDP\\nSpearman Coefficient: {correlation1:.2f}'\n",
    "#plt.text(85,36, text, fontsize=12, verticalalignment='top')\n",
    "#text = f'DLCO-Hb(%pred) vs. DL_VDP\\nSpearman Coefficient: {correlation2:.2f}'\n",
    "#plt.text(85,30, text, fontsize=12, verticalalignment='top')\n",
    "\n",
    "plt.savefig(\"/mnt/nas203/forGPU/leesangy/DL_Hb vs. Xe-Vent, DL-Vent VDP.png\", dpi=1200, linewidth=2)\n",
    "png_image = Image.open('/mnt/nas203/forGPU/leesangy/DL_Hb vs. Xe-Vent, DL-Vent VDP.png')\n",
    "dpi=1200\n",
    "png_image.save('/mnt/nas203/forGPU/leesangy/DL_Hb vs. Xe-Vent, DL-Vent VDP.tiff', format='tiff', dpi = (1200,1200))\n",
    "plt.show()\n",
    "\n",
    "z1 = np.arctanh(correlation1)\n",
    "z2 = np.arctanh(correlation2)\n",
    "n1 = len(y1)\n",
    "n2 = len(y2)\n",
    "se1 = 1 / np.sqrt(n1-3)\n",
    "se2 = 1 / np.sqrt(n2-3)\n",
    "from scipy.stats import t\n",
    "\n",
    "# Calculate the test statistic\n",
    "diff_z = z1 - z2\n",
    "se_diff = np.sqrt(se1**2 + se2**2)\n",
    "t_stat = diff_z / se_diff\n",
    "\n",
    "# Calculate the p-value\n",
    "df = n1 + n2 - 2\n",
    "p_value = 2 * (1 - t.cdf(abs(t_stat), df))\n",
    "print(\"P-value:\", p_value)"
   ]
  },
  {
   "cell_type": "code",
   "execution_count": 6,
   "metadata": {},
   "outputs": [
    {
     "name": "stdout",
     "output_type": "stream",
     "text": [
      "(256, 256)\n",
      "(256, 256)\n"
     ]
    },
    {
     "data": {
      "image/png": "[encoded data removed]",
      "text/plain": [
       "<Figure size 432x288 with 1 Axes>"
      ]
     },
     "metadata": {},
     "output_type": "display_data"
    },
    {
     "data": {
      "image/png": "[encoded data removed]",
      "text/plain": [
       "<Figure size 432x288 with 1 Axes>"
      ]
     },
     "metadata": {},
     "output_type": "display_data"
    },
    {
     "data": {
      "image/png": "[encoded data removed]",
      "text/plain": [
       "<Figure size 432x288 with 1 Axes>"
      ]
     },
     "metadata": {},
     "output_type": "display_data"
    }
   ],
   "source": [
    "import nibabel as nib\n",
    "import numpy as np\n",
    "from PIL import Image\n",
    "import matplotlib.pyplot as plt\n",
    "\n",
    "plt.rcParams.update({\n",
    "    'axes.spines.top': False,\n",
    "    'axes.spines.right': False,\n",
    "    'axes.spines.bottom': False,\n",
    "    'axes.spines.left': False,\n",
    "    'xtick.bottom': False,\n",
    "    'xtick.labelbottom': False,\n",
    "    'ytick.left': False,\n",
    "    'ytick.labelleft': False\n",
    "})\n",
    "\n",
    "file_A = '/mnt/nas203/forGPU/leesangy/Task_VQ_mismatch/final_inference/testset_gif/nifti/164_0000_271_resized.nii.gz'\n",
    "file_B = '/mnt/nas203/forGPU/leesangy/Task_VQ_mismatch/final_inference/multitasking_G_256/test22/nifti/164_0000_271.nii.gz'\n",
    "\n",
    "    # Load NIfTI files\n",
    "img_A = nib.load(file_A)\n",
    "img_B = nib.load(file_B)\n",
    "\n",
    "# Get data arrays\n",
    "data_A = img_A.get_fdata()\n",
    "data_A = np.rot90(data_A.squeeze(), k=3)\n",
    "data_B = np.rot90(np.rot90(np.rot90(img_B.get_fdata(),k=3), k=3),k=3)\n",
    "\n",
    "data_A = np.fliplr(data_A)\n",
    "data_B = np.fliplr(data_B)\n",
    "\n",
    "print(data_A.shape)\n",
    "print(data_B.shape)\n",
    "\n",
    "plt.imshow(data_A.squeeze(), cmap='gray')\n",
    "plt.savefig(\"/mnt/nas203/forGPU/leesangy/164_0000_271_real.png\", dpi=600, bbox_inches='tight', pad_inches = 0)\n",
    "png_image = Image.open('/mnt/nas203/forGPU/leesangy/164_0000_271_real.png')\n",
    "dpi=1200\n",
    "png_image.save('/mnt/nas203/forGPU/leesangy/164_0000_271_real.tiff', format='tiff', dpi = (600,600))\n",
    "plt.show()\n",
    "\n",
    "plt.imshow(data_B.squeeze(), cmap='gray')\n",
    "plt.savefig(\"/mnt/nas203/forGPU/leesangy/164_0000_271_dl.png\", dpi=600, bbox_inches='tight', pad_inches = 0)\n",
    "png_image = Image.open('/mnt/nas203/forGPU/leesangy/164_0000_271_dl.png')\n",
    "dpi=1200\n",
    "png_image.save('/mnt/nas203/forGPU/leesangy/164_0000_271_dl.tiff', format='tiff', dpi = (600,600))\n",
    "plt.show()\n",
    "\n",
    "# Threshold values for TP region\n",
    "threshold = 0.202\n",
    "\n",
    "# Create empty arrays for TP, TN, FP, FN\n",
    "tp = np.zeros(data_A.shape)\n",
    "tn = np.zeros(data_A.shape)\n",
    "fp = np.zeros(data_A.shape)\n",
    "fn = np.zeros(data_A.shape)\n",
    "\n",
    "# Calculate TP, TN, FP, FN\n",
    "tp[np.logical_and(data_A > 0, data_A < threshold, data_B < threshold)] = 1\n",
    "tn[np.logical_and(data_A >= threshold, data_B >= threshold)] = 2\n",
    "fp[np.logical_and(data_A >= threshold, data_B < threshold)] = 3\n",
    "fn[np.logical_and(data_A < threshold, data_B >= threshold)] = 4\n",
    "\n",
    "merged_data = tp + tn + fp + fn\n",
    "\n",
    "cmap = plt.cm.get_cmap('plasma')\n",
    "cmap.set_under('k')\n",
    "\n",
    "# Plot the merged data\n",
    "\n",
    "plt.rcParams.update({\n",
    "    'axes.spines.top': False,\n",
    "    'axes.spines.right': False,\n",
    "    'axes.spines.bottom': False,\n",
    "    'axes.spines.left': False,\n",
    "    'xtick.bottom': False,\n",
    "    'xtick.labelbottom': False,\n",
    "    'ytick.left': False,\n",
    "    'ytick.labelleft': False\n",
    "})\n",
    "plt.figure()\n",
    "plt.imshow(merged_data.squeeze(), cmap=cmap, vmin=1)  # Set vmin to 1 to exclude the background value 0\n",
    "plt.savefig(\"/mnt/nas203/forGPU/leesangy/164_0000_271_map.png\", dpi=600, bbox_inches='tight', pad_inches = 0)\n",
    "png_image = Image.open('/mnt/nas203/forGPU/leesangy/164_0000_271_map.png')\n",
    "dpi=600\n",
    "png_image.save('/mnt/nas203/forGPU/leesangy/164_0000_271_map.tiff', format='tiff', dpi = (600,600))\n",
    "plt.show()\n",
    "\n",
    "plt.rcParams.update({\n",
    "    'axes.spines.top': True,\n",
    "    'axes.spines.right': True,\n",
    "    'axes.spines.bottom': True,\n",
    "    'axes.spines.left': True,\n",
    "    'xtick.bottom': True,\n",
    "    'xtick.labelbottom': True,\n",
    "    'ytick.left': True,\n",
    "    'ytick.labelleft': True\n",
    "})"
   ]
  },
  {
   "cell_type": "code",
   "execution_count": null,
   "metadata": {},
   "outputs": [],
   "source": [
    "centers = [0.20207]\n",
    "\n",
    "#test_data = \"/mnt/nas203/forGPU/leesangy/Task_VQ_mismatch/final_inference/multitasking_G_256/test22/nifti/099_0000_205.nii.gz\"\n",
    "test_data = \"/mnt/nas203/forGPU/leesangy/Task_VQ_mismatch/final_inference/testset_gif/nifti/099_0000_205_resized.nii.gz\"\n",
    "#print(glob.glob(\"/mnt/nas203/forGPU/leesangy/Task_VQ_mismatch/final_inference/multitasking_G_256/test22/*\"))\n",
    "\n",
    "#\\\\192.168.45.203\\forGPU\\leesangy\\Task_VQ_mismatch\\final_inference\\multitasking_G_256\\test22\\nifti\n",
    "\n",
    "test_file = nib.load(test_data)\n",
    "test_data = np.rot90(test_file.get_fdata().squeeze(), k=3)\n",
    "test_copied = test_data.copy()\n",
    "test_background_mask = (test_data != 0)\n",
    "\n",
    "lung_surface = np.count_nonzero(test_background_mask)\n",
    "\n",
    "test_copied[(test_copied > 0) & (test_copied < centers[0])] = 2\n",
    "test_copied[(test_copied >= centers[0]) & (test_copied <=1)] = 0\n",
    "test_copied[test_copied ==2]= 1\n",
    "\n",
    "#plt.imshow(test_copied)\n",
    "#plt.show()\n",
    "\n",
    "defect_surface = np.count_nonzero(test_copied)\n",
    "vdp_percentage = defect_surface / lung_surface * 100\n",
    "\n",
    "print(vdp_percentage)"
   ]
  },
  {
   "cell_type": "code",
   "execution_count": 16,
   "metadata": {},
   "outputs": [
    {
     "name": "stdout",
     "output_type": "stream",
     "text": [
      "Chi-square statistic: 4.567149653979238\n",
      "p-value: 0.032590748523893376\n",
      "Degrees of freedom: 1\n",
      "Expected frequencies: [[ 26.15384615   3.84615385]\n",
      " [177.84615385  26.15384615]]\n"
     ]
    }
   ],
   "source": [
    "from scipy.stats import chi2_contingency\n",
    "\n",
    "# Define the observed contingency table\n",
    "observed = [[22, 8],\n",
    "            [182, 22]]\n",
    "\n",
    "# Perform the chi-square test\n",
    "chi2, p, dof, expected = chi2_contingency(observed)\n",
    "\n",
    "# Display the test results\n",
    "print(\"Chi-square statistic:\", chi2)\n",
    "print(\"p-value:\", p)\n",
    "print(\"Degrees of freedom:\", dof)\n",
    "print(\"Expected frequencies:\", expected)"
   ]
  },
  {
   "cell_type": "code",
   "execution_count": 3,
   "metadata": {},
   "outputs": [
    {
     "name": "stdout",
     "output_type": "stream",
     "text": [
      "0.9586496353149414 9.169689292320982e-06\n",
      "0.9552220106124878 3.9506116991105955e-06\n",
      "0.6132413744926453 1.869289849721503e-21\n",
      "0.966870903968811 9.968390077119693e-05\n",
      "0.9803198575973511 0.0058622355572879314\n",
      "0.9661138653755188 8.101917046587914e-05\n"
     ]
    }
   ],
   "source": [
    "import pandas as pd\n",
    "import matplotlib.pyplot as plt\n",
    "import math\n",
    "import numpy as np\n",
    "\n",
    "# Read the Excel file into a pandas DataFrame\n",
    "df = pd.read_excel(\"/mnt/nas203/forGPU/leesangy/Task_VQ_mismatch/train, valid, test, PFT dataset/PFT_train.xlsx\", header=None)\n",
    "PFT = df.iloc[0].to_list()\n",
    "pft_1 = PFT[1]  # Replace with the actual column names in your Excel file\n",
    "pft_2 = PFT[2] \n",
    "pft_3 = PFT[3] \n",
    "pft_4 = PFT[4] \n",
    "pft_5 = PFT[5] \n",
    "pft_6 = PFT[6] \n",
    "pft_7 = PFT[7] \n",
    "# Read the Excel file into a pandas DataFrame\n",
    "df = pd.read_excel(\"/mnt/nas203/forGPU/leesangy/Task_VQ_mismatch/train, valid, test, PFT dataset/PFT_train.xlsx\")\n",
    "\n",
    "column_index_1 = df.columns.get_loc(pft_1)\n",
    "column_index_2 = df.columns.get_loc(pft_2)\n",
    "column_index_3 = df.columns.get_loc(pft_3)\n",
    "column_index_4 = df.columns.get_loc(pft_4)\n",
    "column_index_5 = df.columns.get_loc(pft_5)\n",
    "column_index_6 = df.columns.get_loc(pft_6)\n",
    "column_index_7 = df.columns.get_loc(pft_7)\n",
    "\n",
    "# Extract values for category \"A\"\n",
    "FEV1_pred = df.iloc[:, column_index_1].tolist()\n",
    "FVC_pred = df.iloc[:, column_index_2].tolist()\n",
    "FEV1_FVC = df.iloc[:, column_index_3].tolist()\n",
    "FEF25_75_pred = df.iloc[:, column_index_4].tolist()\n",
    "DLCO_pred = df.iloc[:, column_index_5].tolist()\n",
    "DLCO_VA_pred = df.iloc[:, column_index_6].tolist()\n",
    "DL_Hb_pred = df.iloc[:, column_index_7].tolist()\n",
    "\n",
    "FEV1_pred_train = [x for x in FEV1_pred if not math.isnan(x)]\n",
    "FVC_pred_train = [x for x in FVC_pred if not math.isnan(x)]\n",
    "FEV1_FVC_train = [x for x in FEV1_FVC if not math.isnan(x)]\n",
    "FEF25_75_pred_train = [x for x in FEF25_75_pred if not math.isnan(x)]\n",
    "\n",
    "DLCO_pred_train = [x for x in DLCO_pred if not math.isnan(x)]\n",
    "DLCO_VA_pred_train = [x for x in DLCO_VA_pred if not math.isnan(x)]\n",
    "DL_Hb_pred_train = [x for x in DL_Hb_pred if not math.isnan(x)]\n",
    "\n",
    "from scipy.stats import shapiro\n",
    "\n",
    "statistic, p_value = shapiro(FEV1_pred_train)\n",
    "print(statistic, p_value)\n",
    "statistic, p_value = shapiro(FEV1_FVC_train)\n",
    "print(statistic, p_value)\n",
    "statistic, p_value = shapiro(FEF25_75_pred_train)\n",
    "print(statistic, p_value)\n",
    "statistic, p_value = shapiro(DLCO_pred_train)\n",
    "print(statistic, p_value)\n",
    "statistic, p_value = shapiro(DLCO_VA_pred_train)\n",
    "print(statistic, p_value)\n",
    "statistic, p_value = shapiro(DL_Hb_pred_train)\n",
    "print(statistic, p_value)"
   ]
  },
  {
   "cell_type": "code",
   "execution_count": 4,
   "metadata": {},
   "outputs": [
    {
     "name": "stdout",
     "output_type": "stream",
     "text": [
      "FEV1_pred: # 209 43.177033492822964 18.70246123566643\n",
      "FVC_pred: # 209 78.42105263157895 16.6061825358358\n",
      "FEV1_FVC: # 209 38.73205741626794 13.979649463284858\n",
      "FEF25_75_pred: # 209 18.47846889952153 16.2686996727855\n",
      "DLCO_pred: # 204 53.029901960784315 24.180837048839834\n",
      "DLCO_VA_pred: # 204 67.43627450980392 26.811997202070945\n",
      "DL_Hb_pred: # 204 53.28921568627451 24.09091606061824\n"
     ]
    }
   ],
   "source": [
    "print(\"FEV1_pred:\", \"#\", len(FEV1_pred_train), np.mean(FEV1_pred_train), np.std(FEV1_pred_train))\n",
    "print(\"FVC_pred:\", \"#\", len(FVC_pred_train), np.mean(FVC_pred_train), np.std(FVC_pred_train))\n",
    "print(\"FEV1_FVC:\", \"#\", len(FEV1_FVC_train),np.mean(FEV1_FVC_train), np.std(FEV1_FVC_train))\n",
    "print(\"FEF25_75_pred:\", \"#\", len(FEF25_75_pred_train),np.mean(FEF25_75_pred_train), np.std(FEF25_75_pred_train))\n",
    "print(\"DLCO_pred:\", \"#\", len(DLCO_pred_train),np.mean(DLCO_pred_train), np.std(DLCO_pred_train))\n",
    "print(\"DLCO_VA_pred:\", \"#\", len(DLCO_VA_pred_train),np.mean(DLCO_VA_pred_train), np.std(DLCO_VA_pred_train))\n",
    "print(\"DL_Hb_pred:\", \"#\", len(DL_Hb_pred_train),np.mean(DL_Hb_pred_train), np.std(DL_Hb_pred_train))"
   ]
  },
  {
   "cell_type": "code",
   "execution_count": 5,
   "metadata": {},
   "outputs": [
    {
     "name": "stdout",
     "output_type": "stream",
     "text": [
      "[64, 29, 62, 40, 70, 54, 75, 29, 36, 48, 25, 34, 45, 24, 19, 29, 22, 30, 92, 35, 74, 54, 62, 72, 37, 37, 50, 24, 34, 48]\n",
      "0.9333193898200989 0.06019214913249016\n",
      "0.9506419897079468 0.17588436603546143\n",
      "0.7795799374580383 2.8443577321013436e-05\n",
      "0.978105902671814 0.8028618693351746\n",
      "0.9735075831413269 0.6770222783088684\n",
      "0.9648306965827942 0.4506908357143402\n",
      "FEV1_pred: # 30 45.13333333333333 18.711375031128938\n",
      "FVC_pred: # 30 81.93333333333334 14.106578449629644\n",
      "FEV1_FVC: # 30 38.833333333333336 12.524864159831123\n",
      "FEF25_75_pred: # 30 17.766666666666666 11.377414273707165\n",
      "DLCO_pred: # 28 55.285714285714285 19.28888862764768\n",
      "DLCO_VA_pred: # 28 68.39285714285714 22.713022202054493\n",
      "DL_Hb_pred: # 28 55.535714285714285 19.402654720529394\n"
     ]
    }
   ],
   "source": [
    "df = pd.read_excel(\"/mnt/nas203/forGPU/leesangy/Task_VQ_mismatch/train, valid, test, PFT dataset/pft_test_set(30).xlsx\", header=None)\n",
    "PFT = df.iloc[0].to_list()\n",
    "pft_1 = PFT[1]  # Replace with the actual column names in your Excel file\n",
    "pft_2 = PFT[2] \n",
    "pft_3 = PFT[3] \n",
    "pft_4 = PFT[4] \n",
    "pft_5 = PFT[5] \n",
    "pft_6 = PFT[6] \n",
    "pft_7 = PFT[7] \n",
    "# Read the Excel file into a pandas DataFrame\n",
    "df = pd.read_excel(\"/mnt/nas203/forGPU/leesangy/Task_VQ_mismatch/train, valid, test, PFT dataset/pft_test_set(30).xlsx\")\n",
    "\n",
    "column_index_1 = df.columns.get_loc(pft_1)\n",
    "column_index_2 = df.columns.get_loc(pft_2)\n",
    "column_index_3 = df.columns.get_loc(pft_3)\n",
    "column_index_4 = df.columns.get_loc(pft_4)\n",
    "column_index_5 = df.columns.get_loc(pft_5)\n",
    "column_index_6 = df.columns.get_loc(pft_6)\n",
    "column_index_7 = df.columns.get_loc(pft_7)\n",
    "\n",
    "# Extract values for category \"A\"\n",
    "FEV1_pred = df.iloc[:, column_index_1].tolist()\n",
    "FVC_pred = df.iloc[:, column_index_2].tolist()\n",
    "FEV1_FVC = df.iloc[:, column_index_3].tolist()\n",
    "FEF25_75_pred = df.iloc[:, column_index_4].tolist()\n",
    "DLCO_pred = df.iloc[:, column_index_5].tolist()\n",
    "DLCO_VA_pred = df.iloc[:, column_index_6].tolist()\n",
    "DL_Hb_pred = df.iloc[:, column_index_7].tolist()\n",
    "\n",
    "print(FEV1_pred)\n",
    "\n",
    "FEV1_pred_test = [x for x in FEV1_pred if not math.isnan(x)]\n",
    "FVC_pred_test = [x for x in FVC_pred if not math.isnan(x)]\n",
    "FEV1_FVC_test = [x for x in FEV1_FVC if not math.isnan(x)]\n",
    "FEF25_75_pred_test = [x for x in FEF25_75_pred if not math.isnan(x)]\n",
    "\n",
    "DLCO_pred_test = [x for x in DLCO_pred if not math.isnan(x)]\n",
    "DLCO_VA_pred_test = [x for x in DLCO_VA_pred if not math.isnan(x)]\n",
    "DL_Hb_pred_test = [x for x in DL_Hb_pred if not math.isnan(x)]\n",
    "\n",
    "statistic, p_value = shapiro(FEV1_pred_test)\n",
    "print(statistic, p_value)\n",
    "statistic, p_value = shapiro(FEV1_FVC_test)\n",
    "print(statistic, p_value)\n",
    "statistic, p_value = shapiro(FEF25_75_pred_test)\n",
    "print(statistic, p_value)\n",
    "statistic, p_value = shapiro(DLCO_pred_test)\n",
    "print(statistic, p_value)\n",
    "statistic, p_value = shapiro(DLCO_VA_pred_test)\n",
    "print(statistic, p_value)\n",
    "statistic, p_value = shapiro(DL_Hb_pred_test)\n",
    "print(statistic, p_value)\n",
    "\n",
    "FEV1_pred_train = [x for x in FEV1_pred if not math.isnan(x)]\n",
    "FVC_pred_train = [x for x in FVC_pred if not math.isnan(x)]\n",
    "FEV1_FVC_train = [x for x in FEV1_FVC if not math.isnan(x)]\n",
    "FEF25_75_pred_train = [x for x in FEF25_75_pred if not math.isnan(x)]\n",
    "\n",
    "DLCO_pred_train = [x for x in DLCO_pred if not math.isnan(x)]\n",
    "DLCO_VA_pred_train = [x for x in DLCO_VA_pred if not math.isnan(x)]\n",
    "DL_Hb_pred_train = [x for x in DL_Hb_pred if not math.isnan(x)]\n",
    "\n",
    "print(\"FEV1_pred:\", \"#\", len(FEV1_pred_train), np.mean(FEV1_pred_train), np.std(FEV1_pred_train))\n",
    "print(\"FVC_pred:\", \"#\", len(FVC_pred_train), np.mean(FVC_pred_train), np.std(FVC_pred_train))\n",
    "print(\"FEV1_FVC:\", \"#\", len(FEV1_FVC_train),np.mean(FEV1_FVC_train), np.std(FEV1_FVC_train))\n",
    "print(\"FEF25_75_pred:\", \"#\", len(FEF25_75_pred_train),np.mean(FEF25_75_pred_train), np.std(FEF25_75_pred_train))\n",
    "print(\"DLCO_pred:\", \"#\", len(DLCO_pred_train),np.mean(DLCO_pred_train), np.std(DLCO_pred_train))\n",
    "print(\"DLCO_VA_pred:\", \"#\", len(DLCO_VA_pred_train),np.mean(DLCO_VA_pred_train), np.std(DLCO_VA_pred_train))\n",
    "print(\"DL_Hb_pred:\", \"#\", len(DL_Hb_pred_train),np.mean(DL_Hb_pred_train), np.std(DL_Hb_pred_train))"
   ]
  },
  {
   "cell_type": "code",
   "execution_count": 6,
   "metadata": {},
   "outputs": [
    {
     "name": "stdout",
     "output_type": "stream",
     "text": [
      "mannwhitneyu test p-value: 1.0\n",
      "mannwhitneyu test p-value: 1.0\n",
      "mannwhitneyu test p-value: 1.0\n",
      "mannwhitneyu test p-value: 1.0\n",
      "mannwhitneyu test p-value: 1.0\n",
      "mannwhitneyu test p-value: 1.0\n"
     ]
    }
   ],
   "source": [
    "from scipy.stats import mannwhitneyu\n",
    "\n",
    "statistic, p_value = mannwhitneyu(FEV1_pred_train, FEV1_pred_test)\n",
    "print(\"mannwhitneyu test p-value:\", p_value)\n",
    "\n",
    "statistic, p_value = mannwhitneyu(FEV1_FVC_train, FEV1_FVC_test)\n",
    "print(\"mannwhitneyu test p-value:\", p_value)\n",
    "\n",
    "statistic, p_value = mannwhitneyu(FEF25_75_pred_train, FEF25_75_pred_test)\n",
    "print(\"mannwhitneyu test p-value:\", p_value)\n",
    "\n",
    "statistic, p_value = mannwhitneyu(DLCO_pred_train, DLCO_pred_test)\n",
    "print(\"mannwhitneyu test p-value:\", p_value)\n",
    "\n",
    "statistic, p_value = mannwhitneyu(DLCO_VA_pred_train, DLCO_VA_pred_test)\n",
    "print(\"mannwhitneyu test p-value:\", p_value)\n",
    "\n",
    "statistic, p_value = mannwhitneyu(DL_Hb_pred_train, DL_Hb_pred_test)\n",
    "print(\"mannwhitneyu test p-value:\", p_value)"
   ]
  },
  {
   "cell_type": "code",
   "execution_count": 15,
   "metadata": {},
   "outputs": [
    {
     "name": "stdout",
     "output_type": "stream",
     "text": [
      "Intraclass Correlation Coefficient (ICC): 0.9488255284073752\n",
      "[ 7  4  8  5  7 10  3  7  8  5  4  8  8  3  6  5  2  8  6  2  5  1 10  6\n",
      "  9  1 10  3  7  4]\n",
      "[ 6.45561728  4.11092259  6.84900642  5.37569802  6.39936131  9.70830625\n",
      "  2.39829339  8.85227818  7.98650278  3.94228907  4.82254491  6.77915635\n",
      "  8.2088636   1.04032988  4.67181395  5.19686124  2.73846658  8.17136828\n",
      "  5.88435172  1.6988963   3.52147801  0.28015579  9.53936123  7.05712223\n",
      "  9.34361829 -0.76304016 10.32408397  2.61491772  6.323078    4.61167629]\n",
      "['Rater1' 'Rater1' 'Rater1' 'Rater1' 'Rater1' 'Rater1' 'Rater1' 'Rater1'\n",
      " 'Rater1' 'Rater1' 'Rater1' 'Rater1' 'Rater1' 'Rater1' 'Rater1' 'Rater1'\n",
      " 'Rater1' 'Rater1' 'Rater1' 'Rater1' 'Rater1' 'Rater1' 'Rater1' 'Rater1'\n",
      " 'Rater1' 'Rater1' 'Rater1' 'Rater1' 'Rater1' 'Rater1' 'Rater2' 'Rater2'\n",
      " 'Rater2' 'Rater2' 'Rater2' 'Rater2' 'Rater2' 'Rater2' 'Rater2' 'Rater2'\n",
      " 'Rater2' 'Rater2' 'Rater2' 'Rater2' 'Rater2' 'Rater2' 'Rater2' 'Rater2'\n",
      " 'Rater2' 'Rater2' 'Rater2' 'Rater2' 'Rater2' 'Rater2' 'Rater2' 'Rater2'\n",
      " 'Rater2' 'Rater2' 'Rater2' 'Rater2']\n",
      "['Subject1' 'Subject2' 'Subject3' 'Subject4' 'Subject5' 'Subject6'\n",
      " 'Subject7' 'Subject8' 'Subject9' 'Subject10' 'Subject11' 'Subject12'\n",
      " 'Subject13' 'Subject14' 'Subject15' 'Subject16' 'Subject17' 'Subject18'\n",
      " 'Subject19' 'Subject20' 'Subject21' 'Subject22' 'Subject23' 'Subject24'\n",
      " 'Subject25' 'Subject26' 'Subject27' 'Subject28' 'Subject29' 'Subject30'\n",
      " 'Subject1' 'Subject2' 'Subject3' 'Subject4' 'Subject5' 'Subject6'\n",
      " 'Subject7' 'Subject8' 'Subject9' 'Subject10' 'Subject11' 'Subject12'\n",
      " 'Subject13' 'Subject14' 'Subject15' 'Subject16' 'Subject17' 'Subject18'\n",
      " 'Subject19' 'Subject20' 'Subject21' 'Subject22' 'Subject23' 'Subject24'\n",
      " 'Subject25' 'Subject26' 'Subject27' 'Subject28' 'Subject29' 'Subject30']\n"
     ]
    }
   ],
   "source": [
    "import numpy as np\n",
    "import pandas as pd\n",
    "import pingouin as pg\n",
    "\n",
    "#rater1_scores = []\n",
    "#rater2_scores = []\n",
    "num_subjects = 30\n",
    "# Create separate arrays for rater, subject, and score\n",
    "rater = np.repeat(['Rater1', 'Rater2'], num_subjects)\n",
    "subject = np.tile(['Subject{}'.format(i + 1) for i in range(num_subjects)], 2)\n",
    "score = np.concatenate([rater1_scores, rater2_scores])\n",
    "\n",
    "# Create a DataFrame for the example data\n",
    "data = {\n",
    "    'rater': rater,\n",
    "    'subject': subject,\n",
    "    'score': score\n",
    "}\n",
    "\n",
    "df = pd.DataFrame(data)\n",
    "\n",
    "# Calculate Intraclass Correlation Coefficient (ICC)\n",
    "icc_result = pg.intraclass_corr(data=df, targets='subject', raters='rater', ratings='score')\n",
    "\n",
    "# Extract the ICC value from the result\n",
    "icc_value = icc_result['ICC'][0]\n",
    "\n",
    "print(\"Intraclass Correlation Coefficient (ICC):\", icc_value)\n",
    "\n",
    "\n",
    "print(rater1_scores)\n",
    "print(rater2_scores)"
   ]
  },
  {
   "cell_type": "code",
   "execution_count": null,
   "metadata": {},
   "outputs": [],
   "source": []
  }
 ],
 "metadata": {
  "kernelspec": {
   "display_name": "Python 3",
   "language": "python",
   "name": "python3"
  },
  "language_info": {
   "codemirror_mode": {
    "name": "ipython",
    "version": 3
   },
   "file_extension": ".py",
   "mimetype": "text/x-python",
   "name": "python",
   "nbconvert_exporter": "python",
   "pygments_lexer": "ipython3",
   "version": "3.7.4"
  }
 },
 "nbformat": 4,
 "nbformat_minor": 4
}
